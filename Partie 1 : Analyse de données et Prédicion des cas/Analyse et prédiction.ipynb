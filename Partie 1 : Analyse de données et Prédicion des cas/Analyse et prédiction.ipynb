{
  "nbformat": 4,
  "nbformat_minor": 0,
  "metadata": {
    "colab": {
      "name": "Partie 1 : projet ML",
      "provenance": [],
      "collapsed_sections": []
    },
    "kernelspec": {
      "name": "python3",
      "display_name": "Python 3"
    }
  },
  "cells": [
    {
      "cell_type": "markdown",
      "metadata": {
        "id": "8O7-1lLwHj1J",
        "colab_type": "text"
      },
      "source": [
        "#Importation: \n",
        "\n",
        " \n"
      ]
    },
    {
      "cell_type": "markdown",
      "metadata": {
        "id": "2nr7kaCqAr1Y",
        "colab_type": "text"
      },
      "source": [
        "*  Prophet :  est une procédure de prévision des données de séries chronologiques basée sur un modèle additif où les tendances non linéaires sont adaptées à la saisonnalité annuelle, hebdomadaire et quotidienne, plus les effets des vacances. Il fonctionne mieux avec des séries chronologiques qui ont de forts effets saisonniers et plusieurs saisons de données historiques. Prophet résiste aux données manquantes et aux changements de tendance, et gère généralement bien les valeurs aberrantes."
      ]
    },
    {
      "cell_type": "code",
      "metadata": {
        "id": "DnfF2gOY7qME",
        "colab_type": "code",
        "colab": {
          "base_uri": "https://localhost:8080/",
          "height": 85
        },
        "outputId": "a23d446f-a32c-40c9-f72f-280434d93701"
      },
      "source": [
        "import numpy as np\n",
        "import pandas as pd \n",
        "import matplotlib.pyplot as plt\n",
        "import plotly.graph_objects as go\n",
        "import seaborn as sns\n",
        "import plotly.express as px\n",
        "import folium\n",
        "from fbprophet import Prophet\n",
        "from google.colab import files"
      ],
      "execution_count": null,
      "outputs": [
        {
          "output_type": "stream",
          "text": [
            "/usr/local/lib/python3.6/dist-packages/statsmodels/tools/_testing.py:19: FutureWarning:\n",
            "\n",
            "pandas.util.testing is deprecated. Use the functions in the public API at pandas.testing instead.\n",
            "\n"
          ],
          "name": "stderr"
        }
      ]
    },
    {
      "cell_type": "markdown",
      "metadata": {
        "id": "wWBSfQe3l8ld",
        "colab_type": "text"
      },
      "source": [
        "#I - Analyse de données, visualisation et comparaison : \n",
        "\n"
      ]
    },
    {
      "cell_type": "markdown",
      "metadata": {
        "id": "sZ6Pv2HnAkJx",
        "colab_type": "text"
      },
      "source": [
        "##1- Affichage des données :"
      ]
    },
    {
      "cell_type": "code",
      "metadata": {
        "id": "oSFBEk9x7UuU",
        "colab_type": "code",
        "colab": {
          "base_uri": "https://localhost:8080/",
          "height": 292
        },
        "outputId": "b87445da-1c05-4dda-a23c-cc7553855ec0"
      },
      "source": [
        "data3 = pd.read_csv('regions.csv')\n",
        "data3.style.background_gradient(cmap='Reds')"
      ],
      "execution_count": null,
      "outputs": [
        {
          "output_type": "execute_result",
          "data": {
            "text/html": [
              "<style  type=\"text/css\" >\n",
              "    #T_71334f66_d1b0_11ea_bbfd_0242ac1c0002row0_col1 {\n",
              "            background-color:  #fc8565;\n",
              "            color:  #000000;\n",
              "        }    #T_71334f66_d1b0_11ea_bbfd_0242ac1c0002row0_col2 {\n",
              "            background-color:  #fc8b6b;\n",
              "            color:  #000000;\n",
              "        }    #T_71334f66_d1b0_11ea_bbfd_0242ac1c0002row0_col3 {\n",
              "            background-color:  #f34c37;\n",
              "            color:  #000000;\n",
              "        }    #T_71334f66_d1b0_11ea_bbfd_0242ac1c0002row0_col4 {\n",
              "            background-color:  #fc997a;\n",
              "            color:  #000000;\n",
              "        }    #T_71334f66_d1b0_11ea_bbfd_0242ac1c0002row1_col1 {\n",
              "            background-color:  #feeae0;\n",
              "            color:  #000000;\n",
              "        }    #T_71334f66_d1b0_11ea_bbfd_0242ac1c0002row1_col2 {\n",
              "            background-color:  #fff2ec;\n",
              "            color:  #000000;\n",
              "        }    #T_71334f66_d1b0_11ea_bbfd_0242ac1c0002row1_col3 {\n",
              "            background-color:  #fdd7c6;\n",
              "            color:  #000000;\n",
              "        }    #T_71334f66_d1b0_11ea_bbfd_0242ac1c0002row1_col4 {\n",
              "            background-color:  #fdd4c2;\n",
              "            color:  #000000;\n",
              "        }    #T_71334f66_d1b0_11ea_bbfd_0242ac1c0002row2_col1 {\n",
              "            background-color:  #fc9373;\n",
              "            color:  #000000;\n",
              "        }    #T_71334f66_d1b0_11ea_bbfd_0242ac1c0002row2_col2 {\n",
              "            background-color:  #fcb296;\n",
              "            color:  #000000;\n",
              "        }    #T_71334f66_d1b0_11ea_bbfd_0242ac1c0002row2_col3 {\n",
              "            background-color:  #f96245;\n",
              "            color:  #000000;\n",
              "        }    #T_71334f66_d1b0_11ea_bbfd_0242ac1c0002row2_col4 {\n",
              "            background-color:  #fb6d4d;\n",
              "            color:  #000000;\n",
              "        }    #T_71334f66_d1b0_11ea_bbfd_0242ac1c0002row3_col1 {\n",
              "            background-color:  #fcb79c;\n",
              "            color:  #000000;\n",
              "        }    #T_71334f66_d1b0_11ea_bbfd_0242ac1c0002row3_col2 {\n",
              "            background-color:  #fdcebb;\n",
              "            color:  #000000;\n",
              "        }    #T_71334f66_d1b0_11ea_bbfd_0242ac1c0002row3_col3 {\n",
              "            background-color:  #fcc4ad;\n",
              "            color:  #000000;\n",
              "        }    #T_71334f66_d1b0_11ea_bbfd_0242ac1c0002row3_col4 {\n",
              "            background-color:  #fc8f6f;\n",
              "            color:  #000000;\n",
              "        }    #T_71334f66_d1b0_11ea_bbfd_0242ac1c0002row4_col1 {\n",
              "            background-color:  #ffeee6;\n",
              "            color:  #000000;\n",
              "        }    #T_71334f66_d1b0_11ea_bbfd_0242ac1c0002row4_col2 {\n",
              "            background-color:  #fff0e9;\n",
              "            color:  #000000;\n",
              "        }    #T_71334f66_d1b0_11ea_bbfd_0242ac1c0002row4_col3 {\n",
              "            background-color:  #fedccd;\n",
              "            color:  #000000;\n",
              "        }    #T_71334f66_d1b0_11ea_bbfd_0242ac1c0002row4_col4 {\n",
              "            background-color:  #ffebe2;\n",
              "            color:  #000000;\n",
              "        }    #T_71334f66_d1b0_11ea_bbfd_0242ac1c0002row5_col1 {\n",
              "            background-color:  #67000d;\n",
              "            color:  #f1f1f1;\n",
              "        }    #T_71334f66_d1b0_11ea_bbfd_0242ac1c0002row5_col2 {\n",
              "            background-color:  #67000d;\n",
              "            color:  #f1f1f1;\n",
              "        }    #T_71334f66_d1b0_11ea_bbfd_0242ac1c0002row5_col3 {\n",
              "            background-color:  #8e0912;\n",
              "            color:  #f1f1f1;\n",
              "        }    #T_71334f66_d1b0_11ea_bbfd_0242ac1c0002row5_col4 {\n",
              "            background-color:  #c8171c;\n",
              "            color:  #f1f1f1;\n",
              "        }    #T_71334f66_d1b0_11ea_bbfd_0242ac1c0002row6_col1 {\n",
              "            background-color:  #fa6849;\n",
              "            color:  #000000;\n",
              "        }    #T_71334f66_d1b0_11ea_bbfd_0242ac1c0002row6_col2 {\n",
              "            background-color:  #fcc3ab;\n",
              "            color:  #000000;\n",
              "        }    #T_71334f66_d1b0_11ea_bbfd_0242ac1c0002row6_col3 {\n",
              "            background-color:  #67000d;\n",
              "            color:  #f1f1f1;\n",
              "        }    #T_71334f66_d1b0_11ea_bbfd_0242ac1c0002row6_col4 {\n",
              "            background-color:  #67000d;\n",
              "            color:  #f1f1f1;\n",
              "        }    #T_71334f66_d1b0_11ea_bbfd_0242ac1c0002row7_col1 {\n",
              "            background-color:  #fcc4ad;\n",
              "            color:  #000000;\n",
              "        }    #T_71334f66_d1b0_11ea_bbfd_0242ac1c0002row7_col2 {\n",
              "            background-color:  #ffebe2;\n",
              "            color:  #000000;\n",
              "        }    #T_71334f66_d1b0_11ea_bbfd_0242ac1c0002row7_col3 {\n",
              "            background-color:  #fee8dd;\n",
              "            color:  #000000;\n",
              "        }    #T_71334f66_d1b0_11ea_bbfd_0242ac1c0002row7_col4 {\n",
              "            background-color:  #f75c41;\n",
              "            color:  #000000;\n",
              "        }    #T_71334f66_d1b0_11ea_bbfd_0242ac1c0002row8_col1 {\n",
              "            background-color:  #fff0e8;\n",
              "            color:  #000000;\n",
              "        }    #T_71334f66_d1b0_11ea_bbfd_0242ac1c0002row8_col2 {\n",
              "            background-color:  #fff2eb;\n",
              "            color:  #000000;\n",
              "        }    #T_71334f66_d1b0_11ea_bbfd_0242ac1c0002row8_col3 {\n",
              "            background-color:  #fedccd;\n",
              "            color:  #000000;\n",
              "        }    #T_71334f66_d1b0_11ea_bbfd_0242ac1c0002row8_col4 {\n",
              "            background-color:  #ffeee7;\n",
              "            color:  #000000;\n",
              "        }    #T_71334f66_d1b0_11ea_bbfd_0242ac1c0002row9_col1 {\n",
              "            background-color:  #fff3ed;\n",
              "            color:  #000000;\n",
              "        }    #T_71334f66_d1b0_11ea_bbfd_0242ac1c0002row9_col2 {\n",
              "            background-color:  #fff3ed;\n",
              "            color:  #000000;\n",
              "        }    #T_71334f66_d1b0_11ea_bbfd_0242ac1c0002row9_col3 {\n",
              "            background-color:  #fff5f0;\n",
              "            color:  #000000;\n",
              "        }    #T_71334f66_d1b0_11ea_bbfd_0242ac1c0002row9_col4 {\n",
              "            background-color:  #fff0e8;\n",
              "            color:  #000000;\n",
              "        }    #T_71334f66_d1b0_11ea_bbfd_0242ac1c0002row10_col1 {\n",
              "            background-color:  #fff5f0;\n",
              "            color:  #000000;\n",
              "        }    #T_71334f66_d1b0_11ea_bbfd_0242ac1c0002row10_col2 {\n",
              "            background-color:  #fff5f0;\n",
              "            color:  #000000;\n",
              "        }    #T_71334f66_d1b0_11ea_bbfd_0242ac1c0002row10_col3 {\n",
              "            background-color:  #fff5f0;\n",
              "            color:  #000000;\n",
              "        }    #T_71334f66_d1b0_11ea_bbfd_0242ac1c0002row10_col4 {\n",
              "            background-color:  #fff5f0;\n",
              "            color:  #000000;\n",
              "        }    #T_71334f66_d1b0_11ea_bbfd_0242ac1c0002row11_col1 {\n",
              "            background-color:  #fff5f0;\n",
              "            color:  #000000;\n",
              "        }    #T_71334f66_d1b0_11ea_bbfd_0242ac1c0002row11_col2 {\n",
              "            background-color:  #fff5f0;\n",
              "            color:  #000000;\n",
              "        }    #T_71334f66_d1b0_11ea_bbfd_0242ac1c0002row11_col3 {\n",
              "            background-color:  #fff5f0;\n",
              "            color:  #000000;\n",
              "        }    #T_71334f66_d1b0_11ea_bbfd_0242ac1c0002row11_col4 {\n",
              "            background-color:  #fff5f0;\n",
              "            color:  #000000;\n",
              "        }</style><table id=\"T_71334f66_d1b0_11ea_bbfd_0242ac1c0002\" ><thead>    <tr>        <th class=\"blank level0\" ></th>        <th class=\"col_heading level0 col0\" >Region / الجهة</th>        <th class=\"col_heading level0 col1\" >Total Cases / إجمالي الحالات</th>        <th class=\"col_heading level0 col2\" >Active Cases / الحالات النشطة</th>        <th class=\"col_heading level0 col3\" >Total Deaths / إجمالي الوفيات</th>        <th class=\"col_heading level0 col4\" >Total Recovered / إجمالي المعافين</th>    </tr></thead><tbody>\n",
              "                <tr>\n",
              "                        <th id=\"T_71334f66_d1b0_11ea_bbfd_0242ac1c0002level0_row0\" class=\"row_heading level0 row0\" >0</th>\n",
              "                        <td id=\"T_71334f66_d1b0_11ea_bbfd_0242ac1c0002row0_col0\" class=\"data row0 col0\" >Tétouan-Al Hoceima</td>\n",
              "                        <td id=\"T_71334f66_d1b0_11ea_bbfd_0242ac1c0002row0_col1\" class=\"data row0 col1\" >1109</td>\n",
              "                        <td id=\"T_71334f66_d1b0_11ea_bbfd_0242ac1c0002row0_col2\" class=\"data row0 col2\" >777</td>\n",
              "                        <td id=\"T_71334f66_d1b0_11ea_bbfd_0242ac1c0002row0_col3\" class=\"data row0 col3\" >29</td>\n",
              "                        <td id=\"T_71334f66_d1b0_11ea_bbfd_0242ac1c0002row0_col4\" class=\"data row0 col4\" >305</td>\n",
              "            </tr>\n",
              "            <tr>\n",
              "                        <th id=\"T_71334f66_d1b0_11ea_bbfd_0242ac1c0002level0_row1\" class=\"row_heading level0 row1\" >1</th>\n",
              "                        <td id=\"T_71334f66_d1b0_11ea_bbfd_0242ac1c0002row1_col0\" class=\"data row1 col0\" >Oriental</td>\n",
              "                        <td id=\"T_71334f66_d1b0_11ea_bbfd_0242ac1c0002row1_col1\" class=\"data row1 col1\" >187</td>\n",
              "                        <td id=\"T_71334f66_d1b0_11ea_bbfd_0242ac1c0002row1_col2\" class=\"data row1 col2\" >34</td>\n",
              "                        <td id=\"T_71334f66_d1b0_11ea_bbfd_0242ac1c0002row1_col3\" class=\"data row1 col3\" >8</td>\n",
              "                        <td id=\"T_71334f66_d1b0_11ea_bbfd_0242ac1c0002row1_col4\" class=\"data row1 col4\" >145</td>\n",
              "            </tr>\n",
              "            <tr>\n",
              "                        <th id=\"T_71334f66_d1b0_11ea_bbfd_0242ac1c0002level0_row2\" class=\"row_heading level0 row2\" >2</th>\n",
              "                        <td id=\"T_71334f66_d1b0_11ea_bbfd_0242ac1c0002row2_col0\" class=\"data row2 col0\" >Fès-Meknès</td>\n",
              "                        <td id=\"T_71334f66_d1b0_11ea_bbfd_0242ac1c0002row2_col1\" class=\"data row2 col1\" >1001</td>\n",
              "                        <td id=\"T_71334f66_d1b0_11ea_bbfd_0242ac1c0002row2_col2\" class=\"data row2 col2\" >551</td>\n",
              "                        <td id=\"T_71334f66_d1b0_11ea_bbfd_0242ac1c0002row2_col3\" class=\"data row2 col3\" >26</td>\n",
              "                        <td id=\"T_71334f66_d1b0_11ea_bbfd_0242ac1c0002row2_col4\" class=\"data row2 col4\" >424</td>\n",
              "            </tr>\n",
              "            <tr>\n",
              "                        <th id=\"T_71334f66_d1b0_11ea_bbfd_0242ac1c0002level0_row3\" class=\"row_heading level0 row3\" >3</th>\n",
              "                        <td id=\"T_71334f66_d1b0_11ea_bbfd_0242ac1c0002row3_col0\" class=\"data row3 col0\" >Rabat-Salé-Kénitra</td>\n",
              "                        <td id=\"T_71334f66_d1b0_11ea_bbfd_0242ac1c0002row3_col1\" class=\"data row3 col1\" >705</td>\n",
              "                        <td id=\"T_71334f66_d1b0_11ea_bbfd_0242ac1c0002row3_col2\" class=\"data row3 col2\" >362</td>\n",
              "                        <td id=\"T_71334f66_d1b0_11ea_bbfd_0242ac1c0002row3_col3\" class=\"data row3 col3\" >11</td>\n",
              "                        <td id=\"T_71334f66_d1b0_11ea_bbfd_0242ac1c0002row3_col4\" class=\"data row3 col4\" >332</td>\n",
              "            </tr>\n",
              "            <tr>\n",
              "                        <th id=\"T_71334f66_d1b0_11ea_bbfd_0242ac1c0002level0_row4\" class=\"row_heading level0 row4\" >4</th>\n",
              "                        <td id=\"T_71334f66_d1b0_11ea_bbfd_0242ac1c0002row4_col0\" class=\"data row4 col0\" >Béni Mellal-Khénifra</td>\n",
              "                        <td id=\"T_71334f66_d1b0_11ea_bbfd_0242ac1c0002row4_col1\" class=\"data row4 col1\" >120</td>\n",
              "                        <td id=\"T_71334f66_d1b0_11ea_bbfd_0242ac1c0002row4_col2\" class=\"data row4 col2\" >59</td>\n",
              "                        <td id=\"T_71334f66_d1b0_11ea_bbfd_0242ac1c0002row4_col3\" class=\"data row4 col3\" >7</td>\n",
              "                        <td id=\"T_71334f66_d1b0_11ea_bbfd_0242ac1c0002row4_col4\" class=\"data row4 col4\" >54</td>\n",
              "            </tr>\n",
              "            <tr>\n",
              "                        <th id=\"T_71334f66_d1b0_11ea_bbfd_0242ac1c0002level0_row5\" class=\"row_heading level0 row5\" >5</th>\n",
              "                        <td id=\"T_71334f66_d1b0_11ea_bbfd_0242ac1c0002row5_col0\" class=\"data row5 col0\" >Casablanca-Settat</td>\n",
              "                        <td id=\"T_71334f66_d1b0_11ea_bbfd_0242ac1c0002row5_col1\" class=\"data row5 col1\" >2665</td>\n",
              "                        <td id=\"T_71334f66_d1b0_11ea_bbfd_0242ac1c0002row5_col2\" class=\"data row5 col2\" >1963</td>\n",
              "                        <td id=\"T_71334f66_d1b0_11ea_bbfd_0242ac1c0002row5_col3\" class=\"data row5 col3\" >46</td>\n",
              "                        <td id=\"T_71334f66_d1b0_11ea_bbfd_0242ac1c0002row5_col4\" class=\"data row5 col4\" >656</td>\n",
              "            </tr>\n",
              "            <tr>\n",
              "                        <th id=\"T_71334f66_d1b0_11ea_bbfd_0242ac1c0002level0_row6\" class=\"row_heading level0 row6\" >6</th>\n",
              "                        <td id=\"T_71334f66_d1b0_11ea_bbfd_0242ac1c0002row6_col0\" class=\"data row6 col0\" >Marrakech-Safi</td>\n",
              "                        <td id=\"T_71334f66_d1b0_11ea_bbfd_0242ac1c0002row6_col1\" class=\"data row6 col1\" >1349</td>\n",
              "                        <td id=\"T_71334f66_d1b0_11ea_bbfd_0242ac1c0002row6_col2\" class=\"data row6 col2\" >438</td>\n",
              "                        <td id=\"T_71334f66_d1b0_11ea_bbfd_0242ac1c0002row6_col3\" class=\"data row6 col3\" >50</td>\n",
              "                        <td id=\"T_71334f66_d1b0_11ea_bbfd_0242ac1c0002row6_col4\" class=\"data row6 col4\" >861</td>\n",
              "            </tr>\n",
              "            <tr>\n",
              "                        <th id=\"T_71334f66_d1b0_11ea_bbfd_0242ac1c0002level0_row7\" class=\"row_heading level0 row7\" >7</th>\n",
              "                        <td id=\"T_71334f66_d1b0_11ea_bbfd_0242ac1c0002row7_col0\" class=\"data row7 col0\" >Drâa-Tafilalet</td>\n",
              "                        <td id=\"T_71334f66_d1b0_11ea_bbfd_0242ac1c0002row7_col1\" class=\"data row7 col1\" >588</td>\n",
              "                        <td id=\"T_71334f66_d1b0_11ea_bbfd_0242ac1c0002row7_col2\" class=\"data row7 col2\" >119</td>\n",
              "                        <td id=\"T_71334f66_d1b0_11ea_bbfd_0242ac1c0002row7_col3\" class=\"data row7 col3\" >4</td>\n",
              "                        <td id=\"T_71334f66_d1b0_11ea_bbfd_0242ac1c0002row7_col4\" class=\"data row7 col4\" >465</td>\n",
              "            </tr>\n",
              "            <tr>\n",
              "                        <th id=\"T_71334f66_d1b0_11ea_bbfd_0242ac1c0002level0_row8\" class=\"row_heading level0 row8\" >8</th>\n",
              "                        <td id=\"T_71334f66_d1b0_11ea_bbfd_0242ac1c0002row8_col0\" class=\"data row8 col0\" >Souss-Massa</td>\n",
              "                        <td id=\"T_71334f66_d1b0_11ea_bbfd_0242ac1c0002row8_col1\" class=\"data row8 col1\" >89</td>\n",
              "                        <td id=\"T_71334f66_d1b0_11ea_bbfd_0242ac1c0002row8_col2\" class=\"data row8 col2\" >45</td>\n",
              "                        <td id=\"T_71334f66_d1b0_11ea_bbfd_0242ac1c0002row8_col3\" class=\"data row8 col3\" >7</td>\n",
              "                        <td id=\"T_71334f66_d1b0_11ea_bbfd_0242ac1c0002row8_col4\" class=\"data row8 col4\" >37</td>\n",
              "            </tr>\n",
              "            <tr>\n",
              "                        <th id=\"T_71334f66_d1b0_11ea_bbfd_0242ac1c0002level0_row9\" class=\"row_heading level0 row9\" >9</th>\n",
              "                        <td id=\"T_71334f66_d1b0_11ea_bbfd_0242ac1c0002row9_col0\" class=\"data row9 col0\" >Guelmim-Oued Noun</td>\n",
              "                        <td id=\"T_71334f66_d1b0_11ea_bbfd_0242ac1c0002row9_col1\" class=\"data row9 col1\" >45</td>\n",
              "                        <td id=\"T_71334f66_d1b0_11ea_bbfd_0242ac1c0002row9_col2\" class=\"data row9 col2\" >26</td>\n",
              "                        <td id=\"T_71334f66_d1b0_11ea_bbfd_0242ac1c0002row9_col3\" class=\"data row9 col3\" >0</td>\n",
              "                        <td id=\"T_71334f66_d1b0_11ea_bbfd_0242ac1c0002row9_col4\" class=\"data row9 col4\" >29</td>\n",
              "            </tr>\n",
              "            <tr>\n",
              "                        <th id=\"T_71334f66_d1b0_11ea_bbfd_0242ac1c0002level0_row10\" class=\"row_heading level0 row10\" >10</th>\n",
              "                        <td id=\"T_71334f66_d1b0_11ea_bbfd_0242ac1c0002row10_col0\" class=\"data row10 col0\" >Laayoune-Sakia El Hamra</td>\n",
              "                        <td id=\"T_71334f66_d1b0_11ea_bbfd_0242ac1c0002row10_col1\" class=\"data row10 col1\" >5</td>\n",
              "                        <td id=\"T_71334f66_d1b0_11ea_bbfd_0242ac1c0002row10_col2\" class=\"data row10 col2\" >1</td>\n",
              "                        <td id=\"T_71334f66_d1b0_11ea_bbfd_0242ac1c0002row10_col3\" class=\"data row10 col3\" >0</td>\n",
              "                        <td id=\"T_71334f66_d1b0_11ea_bbfd_0242ac1c0002row10_col4\" class=\"data row10 col4\" >4</td>\n",
              "            </tr>\n",
              "            <tr>\n",
              "                        <th id=\"T_71334f66_d1b0_11ea_bbfd_0242ac1c0002level0_row11\" class=\"row_heading level0 row11\" >11</th>\n",
              "                        <td id=\"T_71334f66_d1b0_11ea_bbfd_0242ac1c0002row11_col0\" class=\"data row11 col0\" >Eddakhla-Oued Eddahab</td>\n",
              "                        <td id=\"T_71334f66_d1b0_11ea_bbfd_0242ac1c0002row11_col1\" class=\"data row11 col1\" >5</td>\n",
              "                        <td id=\"T_71334f66_d1b0_11ea_bbfd_0242ac1c0002row11_col2\" class=\"data row11 col2\" >3</td>\n",
              "                        <td id=\"T_71334f66_d1b0_11ea_bbfd_0242ac1c0002row11_col3\" class=\"data row11 col3\" >0</td>\n",
              "                        <td id=\"T_71334f66_d1b0_11ea_bbfd_0242ac1c0002row11_col4\" class=\"data row11 col4\" >2</td>\n",
              "            </tr>\n",
              "    </tbody></table>"
            ],
            "text/plain": [
              "<pandas.io.formats.style.Styler at 0x7f9255dcf7f0>"
            ]
          },
          "metadata": {
            "tags": []
          },
          "execution_count": 2
        }
      ]
    },
    {
      "cell_type": "code",
      "metadata": {
        "id": "dNU0dVM3J07l",
        "colab_type": "code",
        "colab": {
          "base_uri": "https://localhost:8080/",
          "height": 145
        },
        "outputId": "d774a669-83a5-4a99-9b4d-73514d1ca18b"
      },
      "source": [
        "data1 = pd.read_csv('MA-times_series - MA-times_series.csv')\n",
        "data1.head().style.background_gradient(cmap='Reds')"
      ],
      "execution_count": null,
      "outputs": [
        {
          "output_type": "execute_result",
          "data": {
            "text/html": [
              "<style  type=\"text/css\" >\n",
              "    #T_713c7bcc_d1b0_11ea_bbfd_0242ac1c0002row0_col1 {\n",
              "            background-color:  #fff5f0;\n",
              "            color:  #000000;\n",
              "        }    #T_713c7bcc_d1b0_11ea_bbfd_0242ac1c0002row0_col2 {\n",
              "            background-color:  #fff5f0;\n",
              "            color:  #000000;\n",
              "        }    #T_713c7bcc_d1b0_11ea_bbfd_0242ac1c0002row0_col3 {\n",
              "            background-color:  #fff5f0;\n",
              "            color:  #000000;\n",
              "        }    #T_713c7bcc_d1b0_11ea_bbfd_0242ac1c0002row1_col1 {\n",
              "            background-color:  #fedbcc;\n",
              "            color:  #000000;\n",
              "        }    #T_713c7bcc_d1b0_11ea_bbfd_0242ac1c0002row1_col2 {\n",
              "            background-color:  #fff5f0;\n",
              "            color:  #000000;\n",
              "        }    #T_713c7bcc_d1b0_11ea_bbfd_0242ac1c0002row1_col3 {\n",
              "            background-color:  #fff5f0;\n",
              "            color:  #000000;\n",
              "        }    #T_713c7bcc_d1b0_11ea_bbfd_0242ac1c0002row2_col1 {\n",
              "            background-color:  #fedbcc;\n",
              "            color:  #000000;\n",
              "        }    #T_713c7bcc_d1b0_11ea_bbfd_0242ac1c0002row2_col2 {\n",
              "            background-color:  #fff5f0;\n",
              "            color:  #000000;\n",
              "        }    #T_713c7bcc_d1b0_11ea_bbfd_0242ac1c0002row2_col3 {\n",
              "            background-color:  #67000d;\n",
              "            color:  #f1f1f1;\n",
              "        }    #T_713c7bcc_d1b0_11ea_bbfd_0242ac1c0002row3_col1 {\n",
              "            background-color:  #d52221;\n",
              "            color:  #f1f1f1;\n",
              "        }    #T_713c7bcc_d1b0_11ea_bbfd_0242ac1c0002row3_col2 {\n",
              "            background-color:  #fff5f0;\n",
              "            color:  #000000;\n",
              "        }    #T_713c7bcc_d1b0_11ea_bbfd_0242ac1c0002row3_col3 {\n",
              "            background-color:  #67000d;\n",
              "            color:  #f1f1f1;\n",
              "        }    #T_713c7bcc_d1b0_11ea_bbfd_0242ac1c0002row4_col1 {\n",
              "            background-color:  #67000d;\n",
              "            color:  #f1f1f1;\n",
              "        }    #T_713c7bcc_d1b0_11ea_bbfd_0242ac1c0002row4_col2 {\n",
              "            background-color:  #67000d;\n",
              "            color:  #f1f1f1;\n",
              "        }    #T_713c7bcc_d1b0_11ea_bbfd_0242ac1c0002row4_col3 {\n",
              "            background-color:  #67000d;\n",
              "            color:  #f1f1f1;\n",
              "        }</style><table id=\"T_713c7bcc_d1b0_11ea_bbfd_0242ac1c0002\" ><thead>    <tr>        <th class=\"blank level0\" ></th>        <th class=\"col_heading level0 col0\" >Dates / التواريخ</th>        <th class=\"col_heading level0 col1\" >Cases / الحالات</th>        <th class=\"col_heading level0 col2\" >Recovered / تعافى</th>        <th class=\"col_heading level0 col3\" >Deaths / الوفيات</th>    </tr></thead><tbody>\n",
              "                <tr>\n",
              "                        <th id=\"T_713c7bcc_d1b0_11ea_bbfd_0242ac1c0002level0_row0\" class=\"row_heading level0 row0\" >0</th>\n",
              "                        <td id=\"T_713c7bcc_d1b0_11ea_bbfd_0242ac1c0002row0_col0\" class=\"data row0 col0\" >03/02/2020</td>\n",
              "                        <td id=\"T_713c7bcc_d1b0_11ea_bbfd_0242ac1c0002row0_col1\" class=\"data row0 col1\" >1</td>\n",
              "                        <td id=\"T_713c7bcc_d1b0_11ea_bbfd_0242ac1c0002row0_col2\" class=\"data row0 col2\" >0</td>\n",
              "                        <td id=\"T_713c7bcc_d1b0_11ea_bbfd_0242ac1c0002row0_col3\" class=\"data row0 col3\" >0</td>\n",
              "            </tr>\n",
              "            <tr>\n",
              "                        <th id=\"T_713c7bcc_d1b0_11ea_bbfd_0242ac1c0002level0_row1\" class=\"row_heading level0 row1\" >1</th>\n",
              "                        <td id=\"T_713c7bcc_d1b0_11ea_bbfd_0242ac1c0002row1_col0\" class=\"data row1 col0\" >03/05/2020</td>\n",
              "                        <td id=\"T_713c7bcc_d1b0_11ea_bbfd_0242ac1c0002row1_col1\" class=\"data row1 col1\" >2</td>\n",
              "                        <td id=\"T_713c7bcc_d1b0_11ea_bbfd_0242ac1c0002row1_col2\" class=\"data row1 col2\" >0</td>\n",
              "                        <td id=\"T_713c7bcc_d1b0_11ea_bbfd_0242ac1c0002row1_col3\" class=\"data row1 col3\" >0</td>\n",
              "            </tr>\n",
              "            <tr>\n",
              "                        <th id=\"T_713c7bcc_d1b0_11ea_bbfd_0242ac1c0002level0_row2\" class=\"row_heading level0 row2\" >2</th>\n",
              "                        <td id=\"T_713c7bcc_d1b0_11ea_bbfd_0242ac1c0002row2_col0\" class=\"data row2 col0\" >03/10/2020</td>\n",
              "                        <td id=\"T_713c7bcc_d1b0_11ea_bbfd_0242ac1c0002row2_col1\" class=\"data row2 col1\" >2</td>\n",
              "                        <td id=\"T_713c7bcc_d1b0_11ea_bbfd_0242ac1c0002row2_col2\" class=\"data row2 col2\" >0</td>\n",
              "                        <td id=\"T_713c7bcc_d1b0_11ea_bbfd_0242ac1c0002row2_col3\" class=\"data row2 col3\" >1</td>\n",
              "            </tr>\n",
              "            <tr>\n",
              "                        <th id=\"T_713c7bcc_d1b0_11ea_bbfd_0242ac1c0002level0_row3\" class=\"row_heading level0 row3\" >3</th>\n",
              "                        <td id=\"T_713c7bcc_d1b0_11ea_bbfd_0242ac1c0002row3_col0\" class=\"data row3 col0\" >03/11/2020</td>\n",
              "                        <td id=\"T_713c7bcc_d1b0_11ea_bbfd_0242ac1c0002row3_col1\" class=\"data row3 col1\" >6</td>\n",
              "                        <td id=\"T_713c7bcc_d1b0_11ea_bbfd_0242ac1c0002row3_col2\" class=\"data row3 col2\" >0</td>\n",
              "                        <td id=\"T_713c7bcc_d1b0_11ea_bbfd_0242ac1c0002row3_col3\" class=\"data row3 col3\" >1</td>\n",
              "            </tr>\n",
              "            <tr>\n",
              "                        <th id=\"T_713c7bcc_d1b0_11ea_bbfd_0242ac1c0002level0_row4\" class=\"row_heading level0 row4\" >4</th>\n",
              "                        <td id=\"T_713c7bcc_d1b0_11ea_bbfd_0242ac1c0002row4_col0\" class=\"data row4 col0\" >        03/13/2020</td>\n",
              "                        <td id=\"T_713c7bcc_d1b0_11ea_bbfd_0242ac1c0002row4_col1\" class=\"data row4 col1\" >8</td>\n",
              "                        <td id=\"T_713c7bcc_d1b0_11ea_bbfd_0242ac1c0002row4_col2\" class=\"data row4 col2\" >1</td>\n",
              "                        <td id=\"T_713c7bcc_d1b0_11ea_bbfd_0242ac1c0002row4_col3\" class=\"data row4 col3\" >1</td>\n",
              "            </tr>\n",
              "    </tbody></table>"
            ],
            "text/plain": [
              "<pandas.io.formats.style.Styler at 0x7f9249810f60>"
            ]
          },
          "metadata": {
            "tags": []
          },
          "execution_count": 3
        }
      ]
    },
    {
      "cell_type": "code",
      "metadata": {
        "id": "4wBECVlxJ283",
        "colab_type": "code",
        "colab": {
          "base_uri": "https://localhost:8080/",
          "height": 145
        },
        "outputId": "6f6b1e23-48e2-4643-8a8a-c7d4bfab9ad9"
      },
      "source": [
        "data2 = pd.read_csv('cities.csv')\n",
        "data2.head().style.background_gradient(cmap='Reds')"
      ],
      "execution_count": null,
      "outputs": [
        {
          "output_type": "execute_result",
          "data": {
            "text/html": [
              "<style  type=\"text/css\" >\n",
              "    #T_71491184_d1b0_11ea_bbfd_0242ac1c0002row0_col2 {\n",
              "            background-color:  #fff5f0;\n",
              "            color:  #000000;\n",
              "        }    #T_71491184_d1b0_11ea_bbfd_0242ac1c0002row0_col3 {\n",
              "            background-color:  #fff5f0;\n",
              "            color:  #000000;\n",
              "        }    #T_71491184_d1b0_11ea_bbfd_0242ac1c0002row0_col4 {\n",
              "            background-color:  #fff5f0;\n",
              "            color:  #000000;\n",
              "        }    #T_71491184_d1b0_11ea_bbfd_0242ac1c0002row1_col2 {\n",
              "            background-color:  #fff5f0;\n",
              "            color:  #000000;\n",
              "        }    #T_71491184_d1b0_11ea_bbfd_0242ac1c0002row1_col3 {\n",
              "            background-color:  #fff5f0;\n",
              "            color:  #000000;\n",
              "        }    #T_71491184_d1b0_11ea_bbfd_0242ac1c0002row1_col4 {\n",
              "            background-color:  #fff5f0;\n",
              "            color:  #000000;\n",
              "        }    #T_71491184_d1b0_11ea_bbfd_0242ac1c0002row2_col2 {\n",
              "            background-color:  #fff5f0;\n",
              "            color:  #000000;\n",
              "        }    #T_71491184_d1b0_11ea_bbfd_0242ac1c0002row2_col3 {\n",
              "            background-color:  #fff5f0;\n",
              "            color:  #000000;\n",
              "        }    #T_71491184_d1b0_11ea_bbfd_0242ac1c0002row2_col4 {\n",
              "            background-color:  #fff5f0;\n",
              "            color:  #000000;\n",
              "        }    #T_71491184_d1b0_11ea_bbfd_0242ac1c0002row3_col2 {\n",
              "            background-color:  #67000d;\n",
              "            color:  #f1f1f1;\n",
              "        }    #T_71491184_d1b0_11ea_bbfd_0242ac1c0002row3_col3 {\n",
              "            background-color:  #67000d;\n",
              "            color:  #f1f1f1;\n",
              "        }    #T_71491184_d1b0_11ea_bbfd_0242ac1c0002row3_col4 {\n",
              "            background-color:  #67000d;\n",
              "            color:  #f1f1f1;\n",
              "        }    #T_71491184_d1b0_11ea_bbfd_0242ac1c0002row4_col2 {\n",
              "            background-color:  #fff5f0;\n",
              "            color:  #000000;\n",
              "        }    #T_71491184_d1b0_11ea_bbfd_0242ac1c0002row4_col3 {\n",
              "            background-color:  #fff5f0;\n",
              "            color:  #000000;\n",
              "        }    #T_71491184_d1b0_11ea_bbfd_0242ac1c0002row4_col4 {\n",
              "            background-color:  #fff5f0;\n",
              "            color:  #000000;\n",
              "        }</style><table id=\"T_71491184_d1b0_11ea_bbfd_0242ac1c0002\" ><thead>    <tr>        <th class=\"blank level0\" ></th>        <th class=\"col_heading level0 col0\" >City / المدينة</th>        <th class=\"col_heading level0 col1\" >Region / المنطقة</th>        <th class=\"col_heading level0 col2\" >Active Cases / الحالات النشطة</th>        <th class=\"col_heading level0 col3\" >Total Deaths / إجمالي الوفيات</th>        <th class=\"col_heading level0 col4\" >Total Recovered / إجمالي المعافين</th>    </tr></thead><tbody>\n",
              "                <tr>\n",
              "                        <th id=\"T_71491184_d1b0_11ea_bbfd_0242ac1c0002level0_row0\" class=\"row_heading level0 row0\" >0</th>\n",
              "                        <td id=\"T_71491184_d1b0_11ea_bbfd_0242ac1c0002row0_col0\" class=\"data row0 col0\" >Aïn Harrouda</td>\n",
              "                        <td id=\"T_71491184_d1b0_11ea_bbfd_0242ac1c0002row0_col1\" class=\"data row0 col1\" >Casablanca-Settat</td>\n",
              "                        <td id=\"T_71491184_d1b0_11ea_bbfd_0242ac1c0002row0_col2\" class=\"data row0 col2\" >0</td>\n",
              "                        <td id=\"T_71491184_d1b0_11ea_bbfd_0242ac1c0002row0_col3\" class=\"data row0 col3\" >0</td>\n",
              "                        <td id=\"T_71491184_d1b0_11ea_bbfd_0242ac1c0002row0_col4\" class=\"data row0 col4\" >0</td>\n",
              "            </tr>\n",
              "            <tr>\n",
              "                        <th id=\"T_71491184_d1b0_11ea_bbfd_0242ac1c0002level0_row1\" class=\"row_heading level0 row1\" >1</th>\n",
              "                        <td id=\"T_71491184_d1b0_11ea_bbfd_0242ac1c0002row1_col0\" class=\"data row1 col0\" >Ben Yakhlef</td>\n",
              "                        <td id=\"T_71491184_d1b0_11ea_bbfd_0242ac1c0002row1_col1\" class=\"data row1 col1\" >Casablanca-Settat</td>\n",
              "                        <td id=\"T_71491184_d1b0_11ea_bbfd_0242ac1c0002row1_col2\" class=\"data row1 col2\" >0</td>\n",
              "                        <td id=\"T_71491184_d1b0_11ea_bbfd_0242ac1c0002row1_col3\" class=\"data row1 col3\" >0</td>\n",
              "                        <td id=\"T_71491184_d1b0_11ea_bbfd_0242ac1c0002row1_col4\" class=\"data row1 col4\" >0</td>\n",
              "            </tr>\n",
              "            <tr>\n",
              "                        <th id=\"T_71491184_d1b0_11ea_bbfd_0242ac1c0002level0_row2\" class=\"row_heading level0 row2\" >2</th>\n",
              "                        <td id=\"T_71491184_d1b0_11ea_bbfd_0242ac1c0002row2_col0\" class=\"data row2 col0\" >Bouskoura</td>\n",
              "                        <td id=\"T_71491184_d1b0_11ea_bbfd_0242ac1c0002row2_col1\" class=\"data row2 col1\" >Casablanca-Settat</td>\n",
              "                        <td id=\"T_71491184_d1b0_11ea_bbfd_0242ac1c0002row2_col2\" class=\"data row2 col2\" >0</td>\n",
              "                        <td id=\"T_71491184_d1b0_11ea_bbfd_0242ac1c0002row2_col3\" class=\"data row2 col3\" >0</td>\n",
              "                        <td id=\"T_71491184_d1b0_11ea_bbfd_0242ac1c0002row2_col4\" class=\"data row2 col4\" >0</td>\n",
              "            </tr>\n",
              "            <tr>\n",
              "                        <th id=\"T_71491184_d1b0_11ea_bbfd_0242ac1c0002level0_row3\" class=\"row_heading level0 row3\" >3</th>\n",
              "                        <td id=\"T_71491184_d1b0_11ea_bbfd_0242ac1c0002row3_col0\" class=\"data row3 col0\" >Casablanca</td>\n",
              "                        <td id=\"T_71491184_d1b0_11ea_bbfd_0242ac1c0002row3_col1\" class=\"data row3 col1\" >Casablanca-Settat</td>\n",
              "                        <td id=\"T_71491184_d1b0_11ea_bbfd_0242ac1c0002row3_col2\" class=\"data row3 col2\" >130</td>\n",
              "                        <td id=\"T_71491184_d1b0_11ea_bbfd_0242ac1c0002row3_col3\" class=\"data row3 col3\" >1</td>\n",
              "                        <td id=\"T_71491184_d1b0_11ea_bbfd_0242ac1c0002row3_col4\" class=\"data row3 col4\" >1</td>\n",
              "            </tr>\n",
              "            <tr>\n",
              "                        <th id=\"T_71491184_d1b0_11ea_bbfd_0242ac1c0002level0_row4\" class=\"row_heading level0 row4\" >4</th>\n",
              "                        <td id=\"T_71491184_d1b0_11ea_bbfd_0242ac1c0002row4_col0\" class=\"data row4 col0\" >Médiouna</td>\n",
              "                        <td id=\"T_71491184_d1b0_11ea_bbfd_0242ac1c0002row4_col1\" class=\"data row4 col1\" >Casablanca-Settat</td>\n",
              "                        <td id=\"T_71491184_d1b0_11ea_bbfd_0242ac1c0002row4_col2\" class=\"data row4 col2\" >0</td>\n",
              "                        <td id=\"T_71491184_d1b0_11ea_bbfd_0242ac1c0002row4_col3\" class=\"data row4 col3\" >0</td>\n",
              "                        <td id=\"T_71491184_d1b0_11ea_bbfd_0242ac1c0002row4_col4\" class=\"data row4 col4\" >0</td>\n",
              "            </tr>\n",
              "    </tbody></table>"
            ],
            "text/plain": [
              "<pandas.io.formats.style.Styler at 0x7f92497e7da0>"
            ]
          },
          "metadata": {
            "tags": []
          },
          "execution_count": 4
        }
      ]
    },
    {
      "cell_type": "markdown",
      "metadata": {
        "id": "_zjFHUYr6Udx",
        "colab_type": "text"
      },
      "source": [
        "##2 -  visualisation des cas infectés chaque jours par coronavirus :"
      ]
    },
    {
      "cell_type": "code",
      "metadata": {
        "id": "KQmYFu1JKA3O",
        "colab_type": "code",
        "colab": {
          "base_uri": "https://localhost:8080/",
          "height": 542
        },
        "outputId": "b206414f-c44e-4fb6-af09-edb6511270fd"
      },
      "source": [
        "fig = go.Figure()\n",
        "fig.add_trace(go.Scatter(x=data1['Dates / التواريخ'], y = data1['Cases / الحالات'], mode='lines+markers',name='Total Cases'))\n",
        "fig.update_layout(title_text='Cases',plot_bgcolor='rgb(230, 230, 330)', xaxis_tickangle=-40)\n",
        "fig.show()\n",
        "#fig = px.bar(data1, x=\"Dates / التواريخ\", y=\"Cases / الحالات\", color='Cases / الحالات', orientation='v', height=600,\n",
        " #            title='Confirmed Cases in Morocco', color_discrete_sequence = px.colors.cyclical.IceFire)\n",
        "\n",
        "#fig.update_layout(plot_bgcolor='rgb(230, 230, 330)', xaxis_tickangle=-40)\n",
        "#fig.show()\n"
      ],
      "execution_count": null,
      "outputs": [
        {
          "output_type": "display_data",
          "data": {
            "text/html": [
              "<html>\n",
              "<head><meta charset=\"utf-8\" /></head>\n",
              "<body>\n",
              "    <div>\n",
              "            <script src=\"https://cdnjs.cloudflare.com/ajax/libs/mathjax/2.7.5/MathJax.js?config=TeX-AMS-MML_SVG\"></script><script type=\"text/javascript\">if (window.MathJax) {MathJax.Hub.Config({SVG: {font: \"STIX-Web\"}});}</script>\n",
              "                <script type=\"text/javascript\">window.PlotlyConfig = {MathJaxConfig: 'local'};</script>\n",
              "        <script src=\"https://cdn.plot.ly/plotly-latest.min.js\"></script>    \n",
              "            <div id=\"3aa3bfcf-1e0e-4032-a838-d7ffe7a41155\" class=\"plotly-graph-div\" style=\"height:525px; width:100%;\"></div>\n",
              "            <script type=\"text/javascript\">\n",
              "                \n",
              "                    window.PLOTLYENV=window.PLOTLYENV || {};\n",
              "                    \n",
              "                if (document.getElementById(\"3aa3bfcf-1e0e-4032-a838-d7ffe7a41155\")) {\n",
              "                    Plotly.newPlot(\n",
              "                        '3aa3bfcf-1e0e-4032-a838-d7ffe7a41155',\n",
              "                        [{\"mode\": \"lines+markers\", \"name\": \"Total Cases\", \"type\": \"scatter\", \"x\": [\"03/02/2020\", \"03/05/2020\", \"03/10/2020\", \"03/11/2020\", \"        03/13/2020\", \"        03/14/2020\", \"        03/15/2020\", \"        03/16/2020\", \"       03/17/2020\", \"        03/18/2020\", \"        03/19/2020\", \"        03/20/2020\", \"        03/21/2020\", \"        03/22/2020\", \"        03/23/2020\", \"        03/24/2020\", \"       03/25/2020\", \"        03/26/2020\", \"        03/27/2020\", \"        03/28/2020\", \"        03/29/2020\", \"        03/30/2020\", \"       03/31/2020 \", \"04/01/2020\", \"04/02/2020\", \"04/03/2020\", \"04/04/2020\", \"04/05/2020\", \"04/06/2020\", \"04/07/2020\", \"04/08/2020\", \"04/09/2020\", \"04/10/2020\", \"04/11/2020\", \"04/12/2020\", \"        04/13/2020\", \"        04/14/2020\", \"        04/15/2020\", \"        04/16/2020\", \"        04/17/2020\", \"        04/18/2020\", \"       04/19/2020\", \"        04/20/2020\", \"        04/21/2020\", \"        04/22/2020\", \"        04/23/2020\", \"        04/24/2020\", \"        04/25/2020\", \"        04/26/2020\", \"        04/27/2020\", \"        04/28/2020\", \"        04/29/2020\", \"        04/30/2020\", \"05/01/2020\", \"05/02/2020\", \"05/03/2020\", \"05/04/2020\", \"05/05/2020\", \"05/06/2020\", \"05/07/2020\", \"05/08/2020\", \"05/09/2020\", \"05/10/2020\", \"05/11/2020\", \"05/12/2020\", \"        05/13/2020\", \"        05/14/2020\", \"        05/15/2020\", \"        05/16/2020\", \"        05/17/2020\", \"        05/18/2020\", \"        05/19/2020\", \"        05/20/2020\", \"        05/21/2020\", \"        05/22/2020\", \"       05/23/2020\", \"        05/24/2020\", \"        05/25/2020\", \"        05/26/2020\", \"        05/27/2020\", \"        05/28/2020\", \"        05/29/2020\", \"        05/30/2020\", \"        05/31/2020\", \"06/01/2020\", \"01/02/2020\"], \"y\": [1, 2, 2, 6, 8, 18, 29, 38, 44, 54, 63, 79, 96, 115, 143, 170, 225, 275, 345, 402, 479, 556, 617, 654, 708, 791, 919, 1021, 1120, 1184, 1275, 1374, 1448, 1545, 1661, 1763, 1888, 2024, 2283, 2564, 2685, 2855, 3046, 3209, 3446, 3568, 3758, 3897, 4065, 4120, 4252, 4289, 4423, 4569, 4729, 4903, 5053, 5219, 5408, 5548, 5711, 5910, 6063, 6281, 6418, 6512, 6607, 6652, 6741, 6870, 6952, 7023, 7133, 7211, 7332, 7406, 7433, 7532, 7577, 7601, 7643, 7714, 7780, 7807, 7833, 7866]}],\n",
              "                        {\"plot_bgcolor\": \"rgb(230, 230, 330)\", \"template\": {\"data\": {\"bar\": [{\"error_x\": {\"color\": \"#2a3f5f\"}, \"error_y\": {\"color\": \"#2a3f5f\"}, \"marker\": {\"line\": {\"color\": \"#E5ECF6\", \"width\": 0.5}}, \"type\": \"bar\"}], \"barpolar\": [{\"marker\": {\"line\": {\"color\": \"#E5ECF6\", \"width\": 0.5}}, \"type\": \"barpolar\"}], \"carpet\": [{\"aaxis\": {\"endlinecolor\": \"#2a3f5f\", \"gridcolor\": \"white\", \"linecolor\": \"white\", \"minorgridcolor\": \"white\", \"startlinecolor\": \"#2a3f5f\"}, \"baxis\": {\"endlinecolor\": \"#2a3f5f\", \"gridcolor\": \"white\", \"linecolor\": \"white\", \"minorgridcolor\": \"white\", \"startlinecolor\": \"#2a3f5f\"}, \"type\": \"carpet\"}], \"choropleth\": [{\"colorbar\": {\"outlinewidth\": 0, \"ticks\": \"\"}, \"type\": \"choropleth\"}], \"contour\": [{\"colorbar\": {\"outlinewidth\": 0, \"ticks\": \"\"}, \"colorscale\": [[0.0, \"#0d0887\"], [0.1111111111111111, \"#46039f\"], [0.2222222222222222, \"#7201a8\"], [0.3333333333333333, \"#9c179e\"], [0.4444444444444444, \"#bd3786\"], [0.5555555555555556, \"#d8576b\"], [0.6666666666666666, \"#ed7953\"], [0.7777777777777778, \"#fb9f3a\"], [0.8888888888888888, \"#fdca26\"], [1.0, \"#f0f921\"]], \"type\": \"contour\"}], \"contourcarpet\": [{\"colorbar\": {\"outlinewidth\": 0, \"ticks\": \"\"}, \"type\": \"contourcarpet\"}], \"heatmap\": [{\"colorbar\": {\"outlinewidth\": 0, \"ticks\": \"\"}, \"colorscale\": [[0.0, \"#0d0887\"], [0.1111111111111111, \"#46039f\"], [0.2222222222222222, \"#7201a8\"], [0.3333333333333333, \"#9c179e\"], [0.4444444444444444, \"#bd3786\"], [0.5555555555555556, \"#d8576b\"], [0.6666666666666666, \"#ed7953\"], [0.7777777777777778, \"#fb9f3a\"], [0.8888888888888888, \"#fdca26\"], [1.0, \"#f0f921\"]], \"type\": \"heatmap\"}], \"heatmapgl\": [{\"colorbar\": {\"outlinewidth\": 0, \"ticks\": \"\"}, \"colorscale\": [[0.0, \"#0d0887\"], [0.1111111111111111, \"#46039f\"], [0.2222222222222222, \"#7201a8\"], [0.3333333333333333, \"#9c179e\"], [0.4444444444444444, \"#bd3786\"], [0.5555555555555556, \"#d8576b\"], [0.6666666666666666, \"#ed7953\"], [0.7777777777777778, \"#fb9f3a\"], [0.8888888888888888, \"#fdca26\"], [1.0, \"#f0f921\"]], \"type\": \"heatmapgl\"}], \"histogram\": [{\"marker\": {\"colorbar\": {\"outlinewidth\": 0, \"ticks\": \"\"}}, \"type\": \"histogram\"}], \"histogram2d\": [{\"colorbar\": {\"outlinewidth\": 0, \"ticks\": \"\"}, \"colorscale\": [[0.0, \"#0d0887\"], [0.1111111111111111, \"#46039f\"], [0.2222222222222222, \"#7201a8\"], [0.3333333333333333, \"#9c179e\"], [0.4444444444444444, \"#bd3786\"], [0.5555555555555556, \"#d8576b\"], [0.6666666666666666, \"#ed7953\"], [0.7777777777777778, \"#fb9f3a\"], [0.8888888888888888, \"#fdca26\"], [1.0, \"#f0f921\"]], \"type\": \"histogram2d\"}], \"histogram2dcontour\": [{\"colorbar\": {\"outlinewidth\": 0, \"ticks\": \"\"}, \"colorscale\": [[0.0, \"#0d0887\"], [0.1111111111111111, \"#46039f\"], [0.2222222222222222, \"#7201a8\"], [0.3333333333333333, \"#9c179e\"], [0.4444444444444444, \"#bd3786\"], [0.5555555555555556, \"#d8576b\"], [0.6666666666666666, \"#ed7953\"], [0.7777777777777778, \"#fb9f3a\"], [0.8888888888888888, \"#fdca26\"], [1.0, \"#f0f921\"]], \"type\": \"histogram2dcontour\"}], \"mesh3d\": [{\"colorbar\": {\"outlinewidth\": 0, \"ticks\": \"\"}, \"type\": \"mesh3d\"}], \"parcoords\": [{\"line\": {\"colorbar\": {\"outlinewidth\": 0, \"ticks\": \"\"}}, \"type\": \"parcoords\"}], \"pie\": [{\"automargin\": true, \"type\": \"pie\"}], \"scatter\": [{\"marker\": {\"colorbar\": {\"outlinewidth\": 0, \"ticks\": \"\"}}, \"type\": \"scatter\"}], \"scatter3d\": [{\"line\": {\"colorbar\": {\"outlinewidth\": 0, \"ticks\": \"\"}}, \"marker\": {\"colorbar\": {\"outlinewidth\": 0, \"ticks\": \"\"}}, \"type\": \"scatter3d\"}], \"scattercarpet\": [{\"marker\": {\"colorbar\": {\"outlinewidth\": 0, \"ticks\": \"\"}}, \"type\": \"scattercarpet\"}], \"scattergeo\": [{\"marker\": {\"colorbar\": {\"outlinewidth\": 0, \"ticks\": \"\"}}, \"type\": \"scattergeo\"}], \"scattergl\": [{\"marker\": {\"colorbar\": {\"outlinewidth\": 0, \"ticks\": \"\"}}, \"type\": \"scattergl\"}], \"scattermapbox\": [{\"marker\": {\"colorbar\": {\"outlinewidth\": 0, \"ticks\": \"\"}}, \"type\": \"scattermapbox\"}], \"scatterpolar\": [{\"marker\": {\"colorbar\": {\"outlinewidth\": 0, \"ticks\": \"\"}}, \"type\": \"scatterpolar\"}], \"scatterpolargl\": [{\"marker\": {\"colorbar\": {\"outlinewidth\": 0, \"ticks\": \"\"}}, \"type\": \"scatterpolargl\"}], \"scatterternary\": [{\"marker\": {\"colorbar\": {\"outlinewidth\": 0, \"ticks\": \"\"}}, \"type\": \"scatterternary\"}], \"surface\": [{\"colorbar\": {\"outlinewidth\": 0, \"ticks\": \"\"}, \"colorscale\": [[0.0, \"#0d0887\"], [0.1111111111111111, \"#46039f\"], [0.2222222222222222, \"#7201a8\"], [0.3333333333333333, \"#9c179e\"], [0.4444444444444444, \"#bd3786\"], [0.5555555555555556, \"#d8576b\"], [0.6666666666666666, \"#ed7953\"], [0.7777777777777778, \"#fb9f3a\"], [0.8888888888888888, \"#fdca26\"], [1.0, \"#f0f921\"]], \"type\": \"surface\"}], \"table\": [{\"cells\": {\"fill\": {\"color\": \"#EBF0F8\"}, \"line\": {\"color\": \"white\"}}, \"header\": {\"fill\": {\"color\": \"#C8D4E3\"}, \"line\": {\"color\": \"white\"}}, \"type\": \"table\"}]}, \"layout\": {\"annotationdefaults\": {\"arrowcolor\": \"#2a3f5f\", \"arrowhead\": 0, \"arrowwidth\": 1}, \"coloraxis\": {\"colorbar\": {\"outlinewidth\": 0, \"ticks\": \"\"}}, \"colorscale\": {\"diverging\": [[0, \"#8e0152\"], [0.1, \"#c51b7d\"], [0.2, \"#de77ae\"], [0.3, \"#f1b6da\"], [0.4, \"#fde0ef\"], [0.5, \"#f7f7f7\"], [0.6, \"#e6f5d0\"], [0.7, \"#b8e186\"], [0.8, \"#7fbc41\"], [0.9, \"#4d9221\"], [1, \"#276419\"]], \"sequential\": [[0.0, \"#0d0887\"], [0.1111111111111111, \"#46039f\"], [0.2222222222222222, \"#7201a8\"], [0.3333333333333333, \"#9c179e\"], [0.4444444444444444, \"#bd3786\"], [0.5555555555555556, \"#d8576b\"], [0.6666666666666666, \"#ed7953\"], [0.7777777777777778, \"#fb9f3a\"], [0.8888888888888888, \"#fdca26\"], [1.0, \"#f0f921\"]], \"sequentialminus\": [[0.0, \"#0d0887\"], [0.1111111111111111, \"#46039f\"], [0.2222222222222222, \"#7201a8\"], [0.3333333333333333, \"#9c179e\"], [0.4444444444444444, \"#bd3786\"], [0.5555555555555556, \"#d8576b\"], [0.6666666666666666, \"#ed7953\"], [0.7777777777777778, \"#fb9f3a\"], [0.8888888888888888, \"#fdca26\"], [1.0, \"#f0f921\"]]}, \"colorway\": [\"#636efa\", \"#EF553B\", \"#00cc96\", \"#ab63fa\", \"#FFA15A\", \"#19d3f3\", \"#FF6692\", \"#B6E880\", \"#FF97FF\", \"#FECB52\"], \"font\": {\"color\": \"#2a3f5f\"}, \"geo\": {\"bgcolor\": \"white\", \"lakecolor\": \"white\", \"landcolor\": \"#E5ECF6\", \"showlakes\": true, \"showland\": true, \"subunitcolor\": \"white\"}, \"hoverlabel\": {\"align\": \"left\"}, \"hovermode\": \"closest\", \"mapbox\": {\"style\": \"light\"}, \"paper_bgcolor\": \"white\", \"plot_bgcolor\": \"#E5ECF6\", \"polar\": {\"angularaxis\": {\"gridcolor\": \"white\", \"linecolor\": \"white\", \"ticks\": \"\"}, \"bgcolor\": \"#E5ECF6\", \"radialaxis\": {\"gridcolor\": \"white\", \"linecolor\": \"white\", \"ticks\": \"\"}}, \"scene\": {\"xaxis\": {\"backgroundcolor\": \"#E5ECF6\", \"gridcolor\": \"white\", \"gridwidth\": 2, \"linecolor\": \"white\", \"showbackground\": true, \"ticks\": \"\", \"zerolinecolor\": \"white\"}, \"yaxis\": {\"backgroundcolor\": \"#E5ECF6\", \"gridcolor\": \"white\", \"gridwidth\": 2, \"linecolor\": \"white\", \"showbackground\": true, \"ticks\": \"\", \"zerolinecolor\": \"white\"}, \"zaxis\": {\"backgroundcolor\": \"#E5ECF6\", \"gridcolor\": \"white\", \"gridwidth\": 2, \"linecolor\": \"white\", \"showbackground\": true, \"ticks\": \"\", \"zerolinecolor\": \"white\"}}, \"shapedefaults\": {\"line\": {\"color\": \"#2a3f5f\"}}, \"ternary\": {\"aaxis\": {\"gridcolor\": \"white\", \"linecolor\": \"white\", \"ticks\": \"\"}, \"baxis\": {\"gridcolor\": \"white\", \"linecolor\": \"white\", \"ticks\": \"\"}, \"bgcolor\": \"#E5ECF6\", \"caxis\": {\"gridcolor\": \"white\", \"linecolor\": \"white\", \"ticks\": \"\"}}, \"title\": {\"x\": 0.05}, \"xaxis\": {\"automargin\": true, \"gridcolor\": \"white\", \"linecolor\": \"white\", \"ticks\": \"\", \"title\": {\"standoff\": 15}, \"zerolinecolor\": \"white\", \"zerolinewidth\": 2}, \"yaxis\": {\"automargin\": true, \"gridcolor\": \"white\", \"linecolor\": \"white\", \"ticks\": \"\", \"title\": {\"standoff\": 15}, \"zerolinecolor\": \"white\", \"zerolinewidth\": 2}}}, \"title\": {\"text\": \"Cases\"}, \"xaxis\": {\"tickangle\": -40}},\n",
              "                        {\"responsive\": true}\n",
              "                    ).then(function(){\n",
              "                            \n",
              "var gd = document.getElementById('3aa3bfcf-1e0e-4032-a838-d7ffe7a41155');\n",
              "var x = new MutationObserver(function (mutations, observer) {{\n",
              "        var display = window.getComputedStyle(gd).display;\n",
              "        if (!display || display === 'none') {{\n",
              "            console.log([gd, 'removed!']);\n",
              "            Plotly.purge(gd);\n",
              "            observer.disconnect();\n",
              "        }}\n",
              "}});\n",
              "\n",
              "// Listen for the removal of the full notebook cells\n",
              "var notebookContainer = gd.closest('#notebook-container');\n",
              "if (notebookContainer) {{\n",
              "    x.observe(notebookContainer, {childList: true});\n",
              "}}\n",
              "\n",
              "// Listen for the clearing of the current output cell\n",
              "var outputEl = gd.closest('.output');\n",
              "if (outputEl) {{\n",
              "    x.observe(outputEl, {childList: true});\n",
              "}}\n",
              "\n",
              "                        })\n",
              "                };\n",
              "                \n",
              "            </script>\n",
              "        </div>\n",
              "</body>\n",
              "</html>"
            ]
          },
          "metadata": {
            "tags": []
          }
        }
      ]
    },
    {
      "cell_type": "markdown",
      "metadata": {
        "id": "9PMQCD2D8tdz",
        "colab_type": "text"
      },
      "source": [
        "##3 - Comparaison entre les cas confirmés, les décès et les rétablis : "
      ]
    },
    {
      "cell_type": "markdown",
      "metadata": {
        "id": "ToKo34pi-lAY",
        "colab_type": "text"
      },
      "source": [
        "* Comparaison des cas totals : "
      ]
    },
    {
      "cell_type": "code",
      "metadata": {
        "id": "0HTQiC95KNkr",
        "colab_type": "code",
        "colab": {
          "base_uri": "https://localhost:8080/",
          "height": 542
        },
        "outputId": "975633b5-f3aa-410e-a4e7-57d733ba59c1"
      },
      "source": [
        "fig = go.Figure()\n",
        "fig.add_trace(go.Scatter(x=data1['Dates / التواريخ'], y = data1['Cases / الحالات'], mode='lines+markers', name='Confirmed', line=dict(color='Blue', width=2)))\n",
        "fig.add_trace(go.Scatter(x=data1['Dates / التواريخ'], y = data1['Deaths / الوفيات'], mode='lines+markers', name='Deaths', line=dict(color='Red', width=2)))\n",
        "fig.add_trace(go.Scatter(x=data1['Dates / التواريخ'], y=data1['Recovered / تعافى'], mode='lines+markers', name='Recovered', line=dict(color='Green', width=2)))\n",
        "fig.update_layout(title='Comparaison', xaxis_tickfont_size=15,yaxis=dict(title='Number of Cases'), xaxis_tickangle=-45)\n",
        "\n",
        "fig.show()"
      ],
      "execution_count": null,
      "outputs": [
        {
          "output_type": "display_data",
          "data": {
            "text/html": [
              "<html>\n",
              "<head><meta charset=\"utf-8\" /></head>\n",
              "<body>\n",
              "    <div>\n",
              "            <script src=\"https://cdnjs.cloudflare.com/ajax/libs/mathjax/2.7.5/MathJax.js?config=TeX-AMS-MML_SVG\"></script><script type=\"text/javascript\">if (window.MathJax) {MathJax.Hub.Config({SVG: {font: \"STIX-Web\"}});}</script>\n",
              "                <script type=\"text/javascript\">window.PlotlyConfig = {MathJaxConfig: 'local'};</script>\n",
              "        <script src=\"https://cdn.plot.ly/plotly-latest.min.js\"></script>    \n",
              "            <div id=\"582b2dcc-2bc7-4a7b-b3d8-d8f6d58a539e\" class=\"plotly-graph-div\" style=\"height:525px; width:100%;\"></div>\n",
              "            <script type=\"text/javascript\">\n",
              "                \n",
              "                    window.PLOTLYENV=window.PLOTLYENV || {};\n",
              "                    \n",
              "                if (document.getElementById(\"582b2dcc-2bc7-4a7b-b3d8-d8f6d58a539e\")) {\n",
              "                    Plotly.newPlot(\n",
              "                        '582b2dcc-2bc7-4a7b-b3d8-d8f6d58a539e',\n",
              "                        [{\"line\": {\"color\": \"Blue\", \"width\": 2}, \"mode\": \"lines+markers\", \"name\": \"Confirmed\", \"type\": \"scatter\", \"x\": [\"03/02/2020\", \"03/05/2020\", \"03/10/2020\", \"03/11/2020\", \"        03/13/2020\", \"        03/14/2020\", \"        03/15/2020\", \"        03/16/2020\", \"       03/17/2020\", \"        03/18/2020\", \"        03/19/2020\", \"        03/20/2020\", \"        03/21/2020\", \"        03/22/2020\", \"        03/23/2020\", \"        03/24/2020\", \"       03/25/2020\", \"        03/26/2020\", \"        03/27/2020\", \"        03/28/2020\", \"        03/29/2020\", \"        03/30/2020\", \"       03/31/2020 \", \"04/01/2020\", \"04/02/2020\", \"04/03/2020\", \"04/04/2020\", \"04/05/2020\", \"04/06/2020\", \"04/07/2020\", \"04/08/2020\", \"04/09/2020\", \"04/10/2020\", \"04/11/2020\", \"04/12/2020\", \"        04/13/2020\", \"        04/14/2020\", \"        04/15/2020\", \"        04/16/2020\", \"        04/17/2020\", \"        04/18/2020\", \"       04/19/2020\", \"        04/20/2020\", \"        04/21/2020\", \"        04/22/2020\", \"        04/23/2020\", \"        04/24/2020\", \"        04/25/2020\", \"        04/26/2020\", \"        04/27/2020\", \"        04/28/2020\", \"        04/29/2020\", \"        04/30/2020\", \"05/01/2020\", \"05/02/2020\", \"05/03/2020\", \"05/04/2020\", \"05/05/2020\", \"05/06/2020\", \"05/07/2020\", \"05/08/2020\", \"05/09/2020\", \"05/10/2020\", \"05/11/2020\", \"05/12/2020\", \"        05/13/2020\", \"        05/14/2020\", \"        05/15/2020\", \"        05/16/2020\", \"        05/17/2020\", \"        05/18/2020\", \"        05/19/2020\", \"        05/20/2020\", \"        05/21/2020\", \"        05/22/2020\", \"       05/23/2020\", \"        05/24/2020\", \"        05/25/2020\", \"        05/26/2020\", \"        05/27/2020\", \"        05/28/2020\", \"        05/29/2020\", \"        05/30/2020\", \"        05/31/2020\", \"06/01/2020\", \"01/02/2020\"], \"y\": [1, 2, 2, 6, 8, 18, 29, 38, 44, 54, 63, 79, 96, 115, 143, 170, 225, 275, 345, 402, 479, 556, 617, 654, 708, 791, 919, 1021, 1120, 1184, 1275, 1374, 1448, 1545, 1661, 1763, 1888, 2024, 2283, 2564, 2685, 2855, 3046, 3209, 3446, 3568, 3758, 3897, 4065, 4120, 4252, 4289, 4423, 4569, 4729, 4903, 5053, 5219, 5408, 5548, 5711, 5910, 6063, 6281, 6418, 6512, 6607, 6652, 6741, 6870, 6952, 7023, 7133, 7211, 7332, 7406, 7433, 7532, 7577, 7601, 7643, 7714, 7780, 7807, 7833, 7866]}, {\"line\": {\"color\": \"Red\", \"width\": 2}, \"mode\": \"lines+markers\", \"name\": \"Deaths\", \"type\": \"scatter\", \"x\": [\"03/02/2020\", \"03/05/2020\", \"03/10/2020\", \"03/11/2020\", \"        03/13/2020\", \"        03/14/2020\", \"        03/15/2020\", \"        03/16/2020\", \"       03/17/2020\", \"        03/18/2020\", \"        03/19/2020\", \"        03/20/2020\", \"        03/21/2020\", \"        03/22/2020\", \"        03/23/2020\", \"        03/24/2020\", \"       03/25/2020\", \"        03/26/2020\", \"        03/27/2020\", \"        03/28/2020\", \"        03/29/2020\", \"        03/30/2020\", \"       03/31/2020 \", \"04/01/2020\", \"04/02/2020\", \"04/03/2020\", \"04/04/2020\", \"04/05/2020\", \"04/06/2020\", \"04/07/2020\", \"04/08/2020\", \"04/09/2020\", \"04/10/2020\", \"04/11/2020\", \"04/12/2020\", \"        04/13/2020\", \"        04/14/2020\", \"        04/15/2020\", \"        04/16/2020\", \"        04/17/2020\", \"        04/18/2020\", \"       04/19/2020\", \"        04/20/2020\", \"        04/21/2020\", \"        04/22/2020\", \"        04/23/2020\", \"        04/24/2020\", \"        04/25/2020\", \"        04/26/2020\", \"        04/27/2020\", \"        04/28/2020\", \"        04/29/2020\", \"        04/30/2020\", \"05/01/2020\", \"05/02/2020\", \"05/03/2020\", \"05/04/2020\", \"05/05/2020\", \"05/06/2020\", \"05/07/2020\", \"05/08/2020\", \"05/09/2020\", \"05/10/2020\", \"05/11/2020\", \"05/12/2020\", \"        05/13/2020\", \"        05/14/2020\", \"        05/15/2020\", \"        05/16/2020\", \"        05/17/2020\", \"        05/18/2020\", \"        05/19/2020\", \"        05/20/2020\", \"        05/21/2020\", \"        05/22/2020\", \"       05/23/2020\", \"        05/24/2020\", \"        05/25/2020\", \"        05/26/2020\", \"        05/27/2020\", \"        05/28/2020\", \"        05/29/2020\", \"        05/30/2020\", \"        05/31/2020\", \"06/01/2020\", \"01/02/2020\"], \"y\": [0, 0, 1, 1, 1, 1, 1, 2, 2, 2, 2, 3, 3, 4, 4, 5, 6, 10, 23, 25, 26, 33, 36, 39, 44, 48, 59, 70, 80, 90, 93, 97, 107, 111, 118, 126, 126, 127, 130, 135, 137, 141, 143, 145, 149, 155, 158, 159, 161, 162, 165, 168, 170, 171, 173, 174, 179, 181, 183, 183, 186, 186, 188, 188, 188, 188, 190, 190, 192, 192, 192, 193, 194, 196, 197, 198, 199, 200, 202, 202, 202, 202, 204, 205, 205, 206]}, {\"line\": {\"color\": \"Green\", \"width\": 2}, \"mode\": \"lines+markers\", \"name\": \"Recovered\", \"type\": \"scatter\", \"x\": [\"03/02/2020\", \"03/05/2020\", \"03/10/2020\", \"03/11/2020\", \"        03/13/2020\", \"        03/14/2020\", \"        03/15/2020\", \"        03/16/2020\", \"       03/17/2020\", \"        03/18/2020\", \"        03/19/2020\", \"        03/20/2020\", \"        03/21/2020\", \"        03/22/2020\", \"        03/23/2020\", \"        03/24/2020\", \"       03/25/2020\", \"        03/26/2020\", \"        03/27/2020\", \"        03/28/2020\", \"        03/29/2020\", \"        03/30/2020\", \"       03/31/2020 \", \"04/01/2020\", \"04/02/2020\", \"04/03/2020\", \"04/04/2020\", \"04/05/2020\", \"04/06/2020\", \"04/07/2020\", \"04/08/2020\", \"04/09/2020\", \"04/10/2020\", \"04/11/2020\", \"04/12/2020\", \"        04/13/2020\", \"        04/14/2020\", \"        04/15/2020\", \"        04/16/2020\", \"        04/17/2020\", \"        04/18/2020\", \"       04/19/2020\", \"        04/20/2020\", \"        04/21/2020\", \"        04/22/2020\", \"        04/23/2020\", \"        04/24/2020\", \"        04/25/2020\", \"        04/26/2020\", \"        04/27/2020\", \"        04/28/2020\", \"        04/29/2020\", \"        04/30/2020\", \"05/01/2020\", \"05/02/2020\", \"05/03/2020\", \"05/04/2020\", \"05/05/2020\", \"05/06/2020\", \"05/07/2020\", \"05/08/2020\", \"05/09/2020\", \"05/10/2020\", \"05/11/2020\", \"05/12/2020\", \"        05/13/2020\", \"        05/14/2020\", \"        05/15/2020\", \"        05/16/2020\", \"        05/17/2020\", \"        05/18/2020\", \"        05/19/2020\", \"        05/20/2020\", \"        05/21/2020\", \"        05/22/2020\", \"       05/23/2020\", \"        05/24/2020\", \"        05/25/2020\", \"        05/26/2020\", \"        05/27/2020\", \"        05/28/2020\", \"        05/29/2020\", \"        05/30/2020\", \"        05/31/2020\", \"06/01/2020\", \"01/02/2020\"], \"y\": [0, 0, 0, 0, 1, 1, 1, 1, 1, 1, 2, 2, 3, 3, 5, 6, 7, 8, 11, 12, 13, 15, 24, 29, 31, 57, 66, 76, 81, 93, 97, 109, 122, 145, 177, 203, 217, 229, 249, 281, 314, 327, 350, 393, 417, 456, 486, 537, 593, 695, 778, 928, 984, 1083, 1256, 1438, 1653, 1838, 2017, 2179, 2324, 2461, 2554, 2811, 2991, 3131, 3310, 3400, 3487, 3660, 3758, 3901, 4098, 4280, 4377, 4638, 4703, 4774, 4881, 4978, 5195, 5271, 5401, 5459, 5893, 6410]}],\n",
              "                        {\"template\": {\"data\": {\"bar\": [{\"error_x\": {\"color\": \"#2a3f5f\"}, \"error_y\": {\"color\": \"#2a3f5f\"}, \"marker\": {\"line\": {\"color\": \"#E5ECF6\", \"width\": 0.5}}, \"type\": \"bar\"}], \"barpolar\": [{\"marker\": {\"line\": {\"color\": \"#E5ECF6\", \"width\": 0.5}}, \"type\": \"barpolar\"}], \"carpet\": [{\"aaxis\": {\"endlinecolor\": \"#2a3f5f\", \"gridcolor\": \"white\", \"linecolor\": \"white\", \"minorgridcolor\": \"white\", \"startlinecolor\": \"#2a3f5f\"}, \"baxis\": {\"endlinecolor\": \"#2a3f5f\", \"gridcolor\": \"white\", \"linecolor\": \"white\", \"minorgridcolor\": \"white\", \"startlinecolor\": \"#2a3f5f\"}, \"type\": \"carpet\"}], \"choropleth\": [{\"colorbar\": {\"outlinewidth\": 0, \"ticks\": \"\"}, \"type\": \"choropleth\"}], \"contour\": [{\"colorbar\": {\"outlinewidth\": 0, \"ticks\": \"\"}, \"colorscale\": [[0.0, \"#0d0887\"], [0.1111111111111111, \"#46039f\"], [0.2222222222222222, \"#7201a8\"], [0.3333333333333333, \"#9c179e\"], [0.4444444444444444, \"#bd3786\"], [0.5555555555555556, \"#d8576b\"], [0.6666666666666666, \"#ed7953\"], [0.7777777777777778, \"#fb9f3a\"], [0.8888888888888888, \"#fdca26\"], [1.0, \"#f0f921\"]], \"type\": \"contour\"}], \"contourcarpet\": [{\"colorbar\": {\"outlinewidth\": 0, \"ticks\": \"\"}, \"type\": \"contourcarpet\"}], \"heatmap\": [{\"colorbar\": {\"outlinewidth\": 0, \"ticks\": \"\"}, \"colorscale\": [[0.0, \"#0d0887\"], [0.1111111111111111, \"#46039f\"], [0.2222222222222222, \"#7201a8\"], [0.3333333333333333, \"#9c179e\"], [0.4444444444444444, \"#bd3786\"], [0.5555555555555556, \"#d8576b\"], [0.6666666666666666, \"#ed7953\"], [0.7777777777777778, \"#fb9f3a\"], [0.8888888888888888, \"#fdca26\"], [1.0, \"#f0f921\"]], \"type\": \"heatmap\"}], \"heatmapgl\": [{\"colorbar\": {\"outlinewidth\": 0, \"ticks\": \"\"}, \"colorscale\": [[0.0, \"#0d0887\"], [0.1111111111111111, \"#46039f\"], [0.2222222222222222, \"#7201a8\"], [0.3333333333333333, \"#9c179e\"], [0.4444444444444444, \"#bd3786\"], [0.5555555555555556, \"#d8576b\"], [0.6666666666666666, \"#ed7953\"], [0.7777777777777778, \"#fb9f3a\"], [0.8888888888888888, \"#fdca26\"], [1.0, \"#f0f921\"]], \"type\": \"heatmapgl\"}], \"histogram\": [{\"marker\": {\"colorbar\": {\"outlinewidth\": 0, \"ticks\": \"\"}}, \"type\": \"histogram\"}], \"histogram2d\": [{\"colorbar\": {\"outlinewidth\": 0, \"ticks\": \"\"}, \"colorscale\": [[0.0, \"#0d0887\"], [0.1111111111111111, \"#46039f\"], [0.2222222222222222, \"#7201a8\"], [0.3333333333333333, \"#9c179e\"], [0.4444444444444444, \"#bd3786\"], [0.5555555555555556, \"#d8576b\"], [0.6666666666666666, \"#ed7953\"], [0.7777777777777778, \"#fb9f3a\"], [0.8888888888888888, \"#fdca26\"], [1.0, \"#f0f921\"]], \"type\": \"histogram2d\"}], \"histogram2dcontour\": [{\"colorbar\": {\"outlinewidth\": 0, \"ticks\": \"\"}, \"colorscale\": [[0.0, \"#0d0887\"], [0.1111111111111111, \"#46039f\"], [0.2222222222222222, \"#7201a8\"], [0.3333333333333333, \"#9c179e\"], [0.4444444444444444, \"#bd3786\"], [0.5555555555555556, \"#d8576b\"], [0.6666666666666666, \"#ed7953\"], [0.7777777777777778, \"#fb9f3a\"], [0.8888888888888888, \"#fdca26\"], [1.0, \"#f0f921\"]], \"type\": \"histogram2dcontour\"}], \"mesh3d\": [{\"colorbar\": {\"outlinewidth\": 0, \"ticks\": \"\"}, \"type\": \"mesh3d\"}], \"parcoords\": [{\"line\": {\"colorbar\": {\"outlinewidth\": 0, \"ticks\": \"\"}}, \"type\": \"parcoords\"}], \"pie\": [{\"automargin\": true, \"type\": \"pie\"}], \"scatter\": [{\"marker\": {\"colorbar\": {\"outlinewidth\": 0, \"ticks\": \"\"}}, \"type\": \"scatter\"}], \"scatter3d\": [{\"line\": {\"colorbar\": {\"outlinewidth\": 0, \"ticks\": \"\"}}, \"marker\": {\"colorbar\": {\"outlinewidth\": 0, \"ticks\": \"\"}}, \"type\": \"scatter3d\"}], \"scattercarpet\": [{\"marker\": {\"colorbar\": {\"outlinewidth\": 0, \"ticks\": \"\"}}, \"type\": \"scattercarpet\"}], \"scattergeo\": [{\"marker\": {\"colorbar\": {\"outlinewidth\": 0, \"ticks\": \"\"}}, \"type\": \"scattergeo\"}], \"scattergl\": [{\"marker\": {\"colorbar\": {\"outlinewidth\": 0, \"ticks\": \"\"}}, \"type\": \"scattergl\"}], \"scattermapbox\": [{\"marker\": {\"colorbar\": {\"outlinewidth\": 0, \"ticks\": \"\"}}, \"type\": \"scattermapbox\"}], \"scatterpolar\": [{\"marker\": {\"colorbar\": {\"outlinewidth\": 0, \"ticks\": \"\"}}, \"type\": \"scatterpolar\"}], \"scatterpolargl\": [{\"marker\": {\"colorbar\": {\"outlinewidth\": 0, \"ticks\": \"\"}}, \"type\": \"scatterpolargl\"}], \"scatterternary\": [{\"marker\": {\"colorbar\": {\"outlinewidth\": 0, \"ticks\": \"\"}}, \"type\": \"scatterternary\"}], \"surface\": [{\"colorbar\": {\"outlinewidth\": 0, \"ticks\": \"\"}, \"colorscale\": [[0.0, \"#0d0887\"], [0.1111111111111111, \"#46039f\"], [0.2222222222222222, \"#7201a8\"], [0.3333333333333333, \"#9c179e\"], [0.4444444444444444, \"#bd3786\"], [0.5555555555555556, \"#d8576b\"], [0.6666666666666666, \"#ed7953\"], [0.7777777777777778, \"#fb9f3a\"], [0.8888888888888888, \"#fdca26\"], [1.0, \"#f0f921\"]], \"type\": \"surface\"}], \"table\": [{\"cells\": {\"fill\": {\"color\": \"#EBF0F8\"}, \"line\": {\"color\": \"white\"}}, \"header\": {\"fill\": {\"color\": \"#C8D4E3\"}, \"line\": {\"color\": \"white\"}}, \"type\": \"table\"}]}, \"layout\": {\"annotationdefaults\": {\"arrowcolor\": \"#2a3f5f\", \"arrowhead\": 0, \"arrowwidth\": 1}, \"coloraxis\": {\"colorbar\": {\"outlinewidth\": 0, \"ticks\": \"\"}}, \"colorscale\": {\"diverging\": [[0, \"#8e0152\"], [0.1, \"#c51b7d\"], [0.2, \"#de77ae\"], [0.3, \"#f1b6da\"], [0.4, \"#fde0ef\"], [0.5, \"#f7f7f7\"], [0.6, \"#e6f5d0\"], [0.7, \"#b8e186\"], [0.8, \"#7fbc41\"], [0.9, \"#4d9221\"], [1, \"#276419\"]], \"sequential\": [[0.0, \"#0d0887\"], [0.1111111111111111, \"#46039f\"], [0.2222222222222222, \"#7201a8\"], [0.3333333333333333, \"#9c179e\"], [0.4444444444444444, \"#bd3786\"], [0.5555555555555556, \"#d8576b\"], [0.6666666666666666, \"#ed7953\"], [0.7777777777777778, \"#fb9f3a\"], [0.8888888888888888, \"#fdca26\"], [1.0, \"#f0f921\"]], \"sequentialminus\": [[0.0, \"#0d0887\"], [0.1111111111111111, \"#46039f\"], [0.2222222222222222, \"#7201a8\"], [0.3333333333333333, \"#9c179e\"], [0.4444444444444444, \"#bd3786\"], [0.5555555555555556, \"#d8576b\"], [0.6666666666666666, \"#ed7953\"], [0.7777777777777778, \"#fb9f3a\"], [0.8888888888888888, \"#fdca26\"], [1.0, \"#f0f921\"]]}, \"colorway\": [\"#636efa\", \"#EF553B\", \"#00cc96\", \"#ab63fa\", \"#FFA15A\", \"#19d3f3\", \"#FF6692\", \"#B6E880\", \"#FF97FF\", \"#FECB52\"], \"font\": {\"color\": \"#2a3f5f\"}, \"geo\": {\"bgcolor\": \"white\", \"lakecolor\": \"white\", \"landcolor\": \"#E5ECF6\", \"showlakes\": true, \"showland\": true, \"subunitcolor\": \"white\"}, \"hoverlabel\": {\"align\": \"left\"}, \"hovermode\": \"closest\", \"mapbox\": {\"style\": \"light\"}, \"paper_bgcolor\": \"white\", \"plot_bgcolor\": \"#E5ECF6\", \"polar\": {\"angularaxis\": {\"gridcolor\": \"white\", \"linecolor\": \"white\", \"ticks\": \"\"}, \"bgcolor\": \"#E5ECF6\", \"radialaxis\": {\"gridcolor\": \"white\", \"linecolor\": \"white\", \"ticks\": \"\"}}, \"scene\": {\"xaxis\": {\"backgroundcolor\": \"#E5ECF6\", \"gridcolor\": \"white\", \"gridwidth\": 2, \"linecolor\": \"white\", \"showbackground\": true, \"ticks\": \"\", \"zerolinecolor\": \"white\"}, \"yaxis\": {\"backgroundcolor\": \"#E5ECF6\", \"gridcolor\": \"white\", \"gridwidth\": 2, \"linecolor\": \"white\", \"showbackground\": true, \"ticks\": \"\", \"zerolinecolor\": \"white\"}, \"zaxis\": {\"backgroundcolor\": \"#E5ECF6\", \"gridcolor\": \"white\", \"gridwidth\": 2, \"linecolor\": \"white\", \"showbackground\": true, \"ticks\": \"\", \"zerolinecolor\": \"white\"}}, \"shapedefaults\": {\"line\": {\"color\": \"#2a3f5f\"}}, \"ternary\": {\"aaxis\": {\"gridcolor\": \"white\", \"linecolor\": \"white\", \"ticks\": \"\"}, \"baxis\": {\"gridcolor\": \"white\", \"linecolor\": \"white\", \"ticks\": \"\"}, \"bgcolor\": \"#E5ECF6\", \"caxis\": {\"gridcolor\": \"white\", \"linecolor\": \"white\", \"ticks\": \"\"}}, \"title\": {\"x\": 0.05}, \"xaxis\": {\"automargin\": true, \"gridcolor\": \"white\", \"linecolor\": \"white\", \"ticks\": \"\", \"title\": {\"standoff\": 15}, \"zerolinecolor\": \"white\", \"zerolinewidth\": 2}, \"yaxis\": {\"automargin\": true, \"gridcolor\": \"white\", \"linecolor\": \"white\", \"ticks\": \"\", \"title\": {\"standoff\": 15}, \"zerolinecolor\": \"white\", \"zerolinewidth\": 2}}}, \"title\": {\"text\": \"Comparaison\"}, \"xaxis\": {\"tickangle\": -45, \"tickfont\": {\"size\": 15}}, \"yaxis\": {\"title\": {\"text\": \"Number of Cases\"}}},\n",
              "                        {\"responsive\": true}\n",
              "                    ).then(function(){\n",
              "                            \n",
              "var gd = document.getElementById('582b2dcc-2bc7-4a7b-b3d8-d8f6d58a539e');\n",
              "var x = new MutationObserver(function (mutations, observer) {{\n",
              "        var display = window.getComputedStyle(gd).display;\n",
              "        if (!display || display === 'none') {{\n",
              "            console.log([gd, 'removed!']);\n",
              "            Plotly.purge(gd);\n",
              "            observer.disconnect();\n",
              "        }}\n",
              "}});\n",
              "\n",
              "// Listen for the removal of the full notebook cells\n",
              "var notebookContainer = gd.closest('#notebook-container');\n",
              "if (notebookContainer) {{\n",
              "    x.observe(notebookContainer, {childList: true});\n",
              "}}\n",
              "\n",
              "// Listen for the clearing of the current output cell\n",
              "var outputEl = gd.closest('.output');\n",
              "if (outputEl) {{\n",
              "    x.observe(outputEl, {childList: true});\n",
              "}}\n",
              "\n",
              "                        })\n",
              "                };\n",
              "                \n",
              "            </script>\n",
              "        </div>\n",
              "</body>\n",
              "</html>"
            ]
          },
          "metadata": {
            "tags": []
          }
        }
      ]
    },
    {
      "cell_type": "markdown",
      "metadata": {
        "id": "CPcrJovr_KaB",
        "colab_type": "text"
      },
      "source": [
        "* Comparaison par région "
      ]
    },
    {
      "cell_type": "code",
      "metadata": {
        "id": "IBDn72uuKawo",
        "colab_type": "code",
        "colab": {
          "base_uri": "https://localhost:8080/",
          "height": 497
        },
        "outputId": "4aa1f114-9af7-4b24-bf1f-1d6cdc3e3010"
      },
      "source": [
        "f, ax = plt.subplots(figsize=(12, 8))\n",
        "data3.sort_values('Total Cases / إجمالي الحالات',ascending=False,inplace=True)\n",
        "sns.set_color_codes(\"pastel\")\n",
        "sns.barplot(x=\"Total Cases / إجمالي الحالات\", y=\"Region / الجهة\", data=data3,label=\"Total\", color=\"r\")\n",
        "\n",
        "sns.set_color_codes(\"muted\")\n",
        "sns.barplot(x=\"Total Recovered / إجمالي المعافين\", y=\"Region / الجهة\", data=data3, label=\"Cured\", color=\"g\")\n",
        "\n",
        "sns.set_color_codes(\"muted\")\n",
        "sns.barplot(x=\"Total Deaths / إجمالي الوفيات\", y=\"Region / الجهة\", data=data3, label=\"death\", color=\"grey\")\n",
        "\n",
        "\n",
        "# Add a legend and informative axis label\n",
        "ax.legend(ncol=2, loc=\"lower right\", frameon=True)\n",
        "ax.set(xlim=(0, 1000), ylabel=\"\",xlabel=\"Cases\")\n",
        "sns.despine(left=True, bottom=True)"
      ],
      "execution_count": null,
      "outputs": [
        {
          "output_type": "display_data",
          "data": {
            "image/png": "[encoded data removed]",
            "text/plain": [
              "<Figure size 864x576 with 1 Axes>"
            ]
          },
          "metadata": {
            "tags": [],
            "needs_background": "light"
          }
        }
      ]
    },
    {
      "cell_type": "markdown",
      "metadata": {
        "id": "ZaKXmdSD_vgA",
        "colab_type": "text"
      },
      "source": [
        "\n",
        "\n",
        "\n",
        "\n",
        "##4 - Visualisation de la répartition géographiquement :\n",
        "\n",
        "\n",
        "\n"
      ]
    },
    {
      "cell_type": "code",
      "metadata": {
        "id": "9UMxJeY1Kf6x",
        "colab_type": "code",
        "colab": {
          "base_uri": "https://localhost:8080/",
          "height": 145
        },
        "outputId": "1e0fb602-950c-4193-93a1-51aee4ca0f01"
      },
      "source": [
        "data4 = pd.read_csv('coordonnes - Feuille 1 (2).csv')\n",
        "data4.head().style.background_gradient(cmap='Reds')"
      ],
      "execution_count": null,
      "outputs": [
        {
          "output_type": "execute_result",
          "data": {
            "text/html": [
              "<style  type=\"text/css\" >\n",
              "    #T_728c013c_d1b0_11ea_bbfd_0242ac1c0002row0_col1 {\n",
              "            background-color:  #67000d;\n",
              "            color:  #f1f1f1;\n",
              "        }    #T_728c013c_d1b0_11ea_bbfd_0242ac1c0002row0_col2 {\n",
              "            background-color:  #fdc7b2;\n",
              "            color:  #000000;\n",
              "        }    #T_728c013c_d1b0_11ea_bbfd_0242ac1c0002row1_col1 {\n",
              "            background-color:  #fcb79c;\n",
              "            color:  #000000;\n",
              "        }    #T_728c013c_d1b0_11ea_bbfd_0242ac1c0002row1_col2 {\n",
              "            background-color:  #67000d;\n",
              "            color:  #f1f1f1;\n",
              "        }    #T_728c013c_d1b0_11ea_bbfd_0242ac1c0002row2_col1 {\n",
              "            background-color:  #fb7555;\n",
              "            color:  #000000;\n",
              "        }    #T_728c013c_d1b0_11ea_bbfd_0242ac1c0002row2_col2 {\n",
              "            background-color:  #fc8f6f;\n",
              "            color:  #000000;\n",
              "        }    #T_728c013c_d1b0_11ea_bbfd_0242ac1c0002row3_col1 {\n",
              "            background-color:  #fb6b4b;\n",
              "            color:  #000000;\n",
              "        }    #T_728c013c_d1b0_11ea_bbfd_0242ac1c0002row3_col2 {\n",
              "            background-color:  #fff5f0;\n",
              "            color:  #000000;\n",
              "        }    #T_728c013c_d1b0_11ea_bbfd_0242ac1c0002row4_col1 {\n",
              "            background-color:  #fff5f0;\n",
              "            color:  #000000;\n",
              "        }    #T_728c013c_d1b0_11ea_bbfd_0242ac1c0002row4_col2 {\n",
              "            background-color:  #ffeee7;\n",
              "            color:  #000000;\n",
              "        }</style><table id=\"T_728c013c_d1b0_11ea_bbfd_0242ac1c0002\" ><thead>    <tr>        <th class=\"blank level0\" ></th>        <th class=\"col_heading level0 col0\" >Region / الجهة</th>        <th class=\"col_heading level0 col1\" >Latitude</th>        <th class=\"col_heading level0 col2\" >Longitude</th>    </tr></thead><tbody>\n",
              "                <tr>\n",
              "                        <th id=\"T_728c013c_d1b0_11ea_bbfd_0242ac1c0002level0_row0\" class=\"row_heading level0 row0\" >0</th>\n",
              "                        <td id=\"T_728c013c_d1b0_11ea_bbfd_0242ac1c0002row0_col0\" class=\"data row0 col0\" >Tanger-Tétouan-Al Hoceima</td>\n",
              "                        <td id=\"T_728c013c_d1b0_11ea_bbfd_0242ac1c0002row0_col1\" class=\"data row0 col1\" >35.202941</td>\n",
              "                        <td id=\"T_728c013c_d1b0_11ea_bbfd_0242ac1c0002row0_col2\" class=\"data row0 col2\" >-5.551017</td>\n",
              "            </tr>\n",
              "            <tr>\n",
              "                        <th id=\"T_728c013c_d1b0_11ea_bbfd_0242ac1c0002level0_row1\" class=\"row_heading level0 row1\" >1</th>\n",
              "                        <td id=\"T_728c013c_d1b0_11ea_bbfd_0242ac1c0002row1_col0\" class=\"data row1 col0\" >Oriental</td>\n",
              "                        <td id=\"T_728c013c_d1b0_11ea_bbfd_0242ac1c0002row1_col1\" class=\"data row1 col1\" >33.320214</td>\n",
              "                        <td id=\"T_728c013c_d1b0_11ea_bbfd_0242ac1c0002row1_col2\" class=\"data row1 col2\" >-2.423847</td>\n",
              "            </tr>\n",
              "            <tr>\n",
              "                        <th id=\"T_728c013c_d1b0_11ea_bbfd_0242ac1c0002level0_row2\" class=\"row_heading level0 row2\" >2</th>\n",
              "                        <td id=\"T_728c013c_d1b0_11ea_bbfd_0242ac1c0002row2_col0\" class=\"data row2 col0\" >Fès-Meknès</td>\n",
              "                        <td id=\"T_728c013c_d1b0_11ea_bbfd_0242ac1c0002row2_col1\" class=\"data row2 col1\" >33.833314</td>\n",
              "                        <td id=\"T_728c013c_d1b0_11ea_bbfd_0242ac1c0002row2_col2\" class=\"data row2 col2\" >-4.855638</td>\n",
              "            </tr>\n",
              "            <tr>\n",
              "                        <th id=\"T_728c013c_d1b0_11ea_bbfd_0242ac1c0002level0_row3\" class=\"row_heading level0 row3\" >3</th>\n",
              "                        <td id=\"T_728c013c_d1b0_11ea_bbfd_0242ac1c0002row3_col0\" class=\"data row3 col0\" >Rabat-Salé-Kénitra</td>\n",
              "                        <td id=\"T_728c013c_d1b0_11ea_bbfd_0242ac1c0002row3_col1\" class=\"data row3 col1\" >33.920433</td>\n",
              "                        <td id=\"T_728c013c_d1b0_11ea_bbfd_0242ac1c0002row3_col2\" class=\"data row3 col2\" >-6.367609</td>\n",
              "            </tr>\n",
              "            <tr>\n",
              "                        <th id=\"T_728c013c_d1b0_11ea_bbfd_0242ac1c0002level0_row4\" class=\"row_heading level0 row4\" >4</th>\n",
              "                        <td id=\"T_728c013c_d1b0_11ea_bbfd_0242ac1c0002row4_col0\" class=\"data row4 col0\" >Béni Mellal-Khénifra</td>\n",
              "                        <td id=\"T_728c013c_d1b0_11ea_bbfd_0242ac1c0002row4_col1\" class=\"data row4 col1\" >32.640750</td>\n",
              "                        <td id=\"T_728c013c_d1b0_11ea_bbfd_0242ac1c0002row4_col2\" class=\"data row4 col2\" >-6.207105</td>\n",
              "            </tr>\n",
              "    </tbody></table>"
            ],
            "text/plain": [
              "<pandas.io.formats.style.Styler at 0x7f924851b0f0>"
            ]
          },
          "metadata": {
            "tags": []
          },
          "execution_count": 9
        }
      ]
    },
    {
      "cell_type": "code",
      "metadata": {
        "id": "okCy4ONkKpFH",
        "colab_type": "code",
        "colab": {
          "base_uri": "https://localhost:8080/",
          "height": 179
        },
        "outputId": "02cc717c-3b87-4060-b6cd-1f926b08c65d"
      },
      "source": [
        "df_full = pd.merge(data4,data3,on='Region / الجهة')\n",
        "df_full.head().style.background_gradient(cmap='Reds')"
      ],
      "execution_count": null,
      "outputs": [
        {
          "output_type": "execute_result",
          "data": {
            "text/html": [
              "<style  type=\"text/css\" >\n",
              "    #T_72977c88_d1b0_11ea_bbfd_0242ac1c0002row0_col1 {\n",
              "            background-color:  #f85f43;\n",
              "            color:  #000000;\n",
              "        }    #T_72977c88_d1b0_11ea_bbfd_0242ac1c0002row0_col2 {\n",
              "            background-color:  #67000d;\n",
              "            color:  #f1f1f1;\n",
              "        }    #T_72977c88_d1b0_11ea_bbfd_0242ac1c0002row0_col3 {\n",
              "            background-color:  #fff1ea;\n",
              "            color:  #000000;\n",
              "        }    #T_72977c88_d1b0_11ea_bbfd_0242ac1c0002row0_col4 {\n",
              "            background-color:  #fff5f0;\n",
              "            color:  #000000;\n",
              "        }    #T_72977c88_d1b0_11ea_bbfd_0242ac1c0002row0_col5 {\n",
              "            background-color:  #fff1ea;\n",
              "            color:  #000000;\n",
              "        }    #T_72977c88_d1b0_11ea_bbfd_0242ac1c0002row0_col6 {\n",
              "            background-color:  #fed9c9;\n",
              "            color:  #000000;\n",
              "        }    #T_72977c88_d1b0_11ea_bbfd_0242ac1c0002row1_col1 {\n",
              "            background-color:  #880811;\n",
              "            color:  #f1f1f1;\n",
              "        }    #T_72977c88_d1b0_11ea_bbfd_0242ac1c0002row1_col2 {\n",
              "            background-color:  #f5533b;\n",
              "            color:  #000000;\n",
              "        }    #T_72977c88_d1b0_11ea_bbfd_0242ac1c0002row1_col3 {\n",
              "            background-color:  #fc9c7d;\n",
              "            color:  #000000;\n",
              "        }    #T_72977c88_d1b0_11ea_bbfd_0242ac1c0002row1_col4 {\n",
              "            background-color:  #fcb69b;\n",
              "            color:  #000000;\n",
              "        }    #T_72977c88_d1b0_11ea_bbfd_0242ac1c0002row1_col5 {\n",
              "            background-color:  #fb6e4e;\n",
              "            color:  #000000;\n",
              "        }    #T_72977c88_d1b0_11ea_bbfd_0242ac1c0002row1_col6 {\n",
              "            background-color:  #f03f2e;\n",
              "            color:  #f1f1f1;\n",
              "        }    #T_72977c88_d1b0_11ea_bbfd_0242ac1c0002row2_col1 {\n",
              "            background-color:  #67000d;\n",
              "            color:  #f1f1f1;\n",
              "        }    #T_72977c88_d1b0_11ea_bbfd_0242ac1c0002row2_col2 {\n",
              "            background-color:  #fcaf93;\n",
              "            color:  #000000;\n",
              "        }    #T_72977c88_d1b0_11ea_bbfd_0242ac1c0002row2_col3 {\n",
              "            background-color:  #fcc2aa;\n",
              "            color:  #000000;\n",
              "        }    #T_72977c88_d1b0_11ea_bbfd_0242ac1c0002row2_col4 {\n",
              "            background-color:  #fdd3c1;\n",
              "            color:  #000000;\n",
              "        }    #T_72977c88_d1b0_11ea_bbfd_0242ac1c0002row2_col5 {\n",
              "            background-color:  #fee4d8;\n",
              "            color:  #000000;\n",
              "        }    #T_72977c88_d1b0_11ea_bbfd_0242ac1c0002row2_col6 {\n",
              "            background-color:  #fb7656;\n",
              "            color:  #000000;\n",
              "        }    #T_72977c88_d1b0_11ea_bbfd_0242ac1c0002row3_col1 {\n",
              "            background-color:  #fff5f0;\n",
              "            color:  #000000;\n",
              "        }    #T_72977c88_d1b0_11ea_bbfd_0242ac1c0002row3_col2 {\n",
              "            background-color:  #fca588;\n",
              "            color:  #000000;\n",
              "        }    #T_72977c88_d1b0_11ea_bbfd_0242ac1c0002row3_col3 {\n",
              "            background-color:  #fff5f0;\n",
              "            color:  #000000;\n",
              "        }    #T_72977c88_d1b0_11ea_bbfd_0242ac1c0002row3_col4 {\n",
              "            background-color:  #fff3ed;\n",
              "            color:  #000000;\n",
              "        }    #T_72977c88_d1b0_11ea_bbfd_0242ac1c0002row3_col5 {\n",
              "            background-color:  #fff5f0;\n",
              "            color:  #000000;\n",
              "        }    #T_72977c88_d1b0_11ea_bbfd_0242ac1c0002row3_col6 {\n",
              "            background-color:  #fff5f0;\n",
              "            color:  #000000;\n",
              "        }    #T_72977c88_d1b0_11ea_bbfd_0242ac1c0002row4_col1 {\n",
              "            background-color:  #fb6e4e;\n",
              "            color:  #000000;\n",
              "        }    #T_72977c88_d1b0_11ea_bbfd_0242ac1c0002row4_col2 {\n",
              "            background-color:  #fff5f0;\n",
              "            color:  #000000;\n",
              "        }    #T_72977c88_d1b0_11ea_bbfd_0242ac1c0002row4_col3 {\n",
              "            background-color:  #67000d;\n",
              "            color:  #f1f1f1;\n",
              "        }    #T_72977c88_d1b0_11ea_bbfd_0242ac1c0002row4_col4 {\n",
              "            background-color:  #67000d;\n",
              "            color:  #f1f1f1;\n",
              "        }    #T_72977c88_d1b0_11ea_bbfd_0242ac1c0002row4_col5 {\n",
              "            background-color:  #67000d;\n",
              "            color:  #f1f1f1;\n",
              "        }    #T_72977c88_d1b0_11ea_bbfd_0242ac1c0002row4_col6 {\n",
              "            background-color:  #67000d;\n",
              "            color:  #f1f1f1;\n",
              "        }</style><table id=\"T_72977c88_d1b0_11ea_bbfd_0242ac1c0002\" ><thead>    <tr>        <th class=\"blank level0\" ></th>        <th class=\"col_heading level0 col0\" >Region / الجهة</th>        <th class=\"col_heading level0 col1\" >Latitude</th>        <th class=\"col_heading level0 col2\" >Longitude</th>        <th class=\"col_heading level0 col3\" >Total Cases / إجمالي الحالات</th>        <th class=\"col_heading level0 col4\" >Active Cases / الحالات النشطة</th>        <th class=\"col_heading level0 col5\" >Total Deaths / إجمالي الوفيات</th>        <th class=\"col_heading level0 col6\" >Total Recovered / إجمالي المعافين</th>    </tr></thead><tbody>\n",
              "                <tr>\n",
              "                        <th id=\"T_72977c88_d1b0_11ea_bbfd_0242ac1c0002level0_row0\" class=\"row_heading level0 row0\" >0</th>\n",
              "                        <td id=\"T_72977c88_d1b0_11ea_bbfd_0242ac1c0002row0_col0\" class=\"data row0 col0\" >Oriental</td>\n",
              "                        <td id=\"T_72977c88_d1b0_11ea_bbfd_0242ac1c0002row0_col1\" class=\"data row0 col1\" >33.320214</td>\n",
              "                        <td id=\"T_72977c88_d1b0_11ea_bbfd_0242ac1c0002row0_col2\" class=\"data row0 col2\" >-2.423847</td>\n",
              "                        <td id=\"T_72977c88_d1b0_11ea_bbfd_0242ac1c0002row0_col3\" class=\"data row0 col3\" >187</td>\n",
              "                        <td id=\"T_72977c88_d1b0_11ea_bbfd_0242ac1c0002row0_col4\" class=\"data row0 col4\" >34</td>\n",
              "                        <td id=\"T_72977c88_d1b0_11ea_bbfd_0242ac1c0002row0_col5\" class=\"data row0 col5\" >8</td>\n",
              "                        <td id=\"T_72977c88_d1b0_11ea_bbfd_0242ac1c0002row0_col6\" class=\"data row0 col6\" >145</td>\n",
              "            </tr>\n",
              "            <tr>\n",
              "                        <th id=\"T_72977c88_d1b0_11ea_bbfd_0242ac1c0002level0_row1\" class=\"row_heading level0 row1\" >1</th>\n",
              "                        <td id=\"T_72977c88_d1b0_11ea_bbfd_0242ac1c0002row1_col0\" class=\"data row1 col0\" >Fès-Meknès</td>\n",
              "                        <td id=\"T_72977c88_d1b0_11ea_bbfd_0242ac1c0002row1_col1\" class=\"data row1 col1\" >33.833314</td>\n",
              "                        <td id=\"T_72977c88_d1b0_11ea_bbfd_0242ac1c0002row1_col2\" class=\"data row1 col2\" >-4.855638</td>\n",
              "                        <td id=\"T_72977c88_d1b0_11ea_bbfd_0242ac1c0002row1_col3\" class=\"data row1 col3\" >1001</td>\n",
              "                        <td id=\"T_72977c88_d1b0_11ea_bbfd_0242ac1c0002row1_col4\" class=\"data row1 col4\" >551</td>\n",
              "                        <td id=\"T_72977c88_d1b0_11ea_bbfd_0242ac1c0002row1_col5\" class=\"data row1 col5\" >26</td>\n",
              "                        <td id=\"T_72977c88_d1b0_11ea_bbfd_0242ac1c0002row1_col6\" class=\"data row1 col6\" >424</td>\n",
              "            </tr>\n",
              "            <tr>\n",
              "                        <th id=\"T_72977c88_d1b0_11ea_bbfd_0242ac1c0002level0_row2\" class=\"row_heading level0 row2\" >2</th>\n",
              "                        <td id=\"T_72977c88_d1b0_11ea_bbfd_0242ac1c0002row2_col0\" class=\"data row2 col0\" >Rabat-Salé-Kénitra</td>\n",
              "                        <td id=\"T_72977c88_d1b0_11ea_bbfd_0242ac1c0002row2_col1\" class=\"data row2 col1\" >33.920433</td>\n",
              "                        <td id=\"T_72977c88_d1b0_11ea_bbfd_0242ac1c0002row2_col2\" class=\"data row2 col2\" >-6.367609</td>\n",
              "                        <td id=\"T_72977c88_d1b0_11ea_bbfd_0242ac1c0002row2_col3\" class=\"data row2 col3\" >705</td>\n",
              "                        <td id=\"T_72977c88_d1b0_11ea_bbfd_0242ac1c0002row2_col4\" class=\"data row2 col4\" >362</td>\n",
              "                        <td id=\"T_72977c88_d1b0_11ea_bbfd_0242ac1c0002row2_col5\" class=\"data row2 col5\" >11</td>\n",
              "                        <td id=\"T_72977c88_d1b0_11ea_bbfd_0242ac1c0002row2_col6\" class=\"data row2 col6\" >332</td>\n",
              "            </tr>\n",
              "            <tr>\n",
              "                        <th id=\"T_72977c88_d1b0_11ea_bbfd_0242ac1c0002level0_row3\" class=\"row_heading level0 row3\" >3</th>\n",
              "                        <td id=\"T_72977c88_d1b0_11ea_bbfd_0242ac1c0002row3_col0\" class=\"data row3 col0\" >Béni Mellal-Khénifra</td>\n",
              "                        <td id=\"T_72977c88_d1b0_11ea_bbfd_0242ac1c0002row3_col1\" class=\"data row3 col1\" >32.640750</td>\n",
              "                        <td id=\"T_72977c88_d1b0_11ea_bbfd_0242ac1c0002row3_col2\" class=\"data row3 col2\" >-6.207105</td>\n",
              "                        <td id=\"T_72977c88_d1b0_11ea_bbfd_0242ac1c0002row3_col3\" class=\"data row3 col3\" >120</td>\n",
              "                        <td id=\"T_72977c88_d1b0_11ea_bbfd_0242ac1c0002row3_col4\" class=\"data row3 col4\" >59</td>\n",
              "                        <td id=\"T_72977c88_d1b0_11ea_bbfd_0242ac1c0002row3_col5\" class=\"data row3 col5\" >7</td>\n",
              "                        <td id=\"T_72977c88_d1b0_11ea_bbfd_0242ac1c0002row3_col6\" class=\"data row3 col6\" >54</td>\n",
              "            </tr>\n",
              "            <tr>\n",
              "                        <th id=\"T_72977c88_d1b0_11ea_bbfd_0242ac1c0002level0_row4\" class=\"row_heading level0 row4\" >4</th>\n",
              "                        <td id=\"T_72977c88_d1b0_11ea_bbfd_0242ac1c0002row4_col0\" class=\"data row4 col0\" >Casablanca-Settat</td>\n",
              "                        <td id=\"T_72977c88_d1b0_11ea_bbfd_0242ac1c0002row4_col1\" class=\"data row4 col1\" >33.262713</td>\n",
              "                        <td id=\"T_72977c88_d1b0_11ea_bbfd_0242ac1c0002row4_col2\" class=\"data row4 col2\" >-7.963903</td>\n",
              "                        <td id=\"T_72977c88_d1b0_11ea_bbfd_0242ac1c0002row4_col3\" class=\"data row4 col3\" >2665</td>\n",
              "                        <td id=\"T_72977c88_d1b0_11ea_bbfd_0242ac1c0002row4_col4\" class=\"data row4 col4\" >1963</td>\n",
              "                        <td id=\"T_72977c88_d1b0_11ea_bbfd_0242ac1c0002row4_col5\" class=\"data row4 col5\" >46</td>\n",
              "                        <td id=\"T_72977c88_d1b0_11ea_bbfd_0242ac1c0002row4_col6\" class=\"data row4 col6\" >656</td>\n",
              "            </tr>\n",
              "    </tbody></table>"
            ],
            "text/plain": [
              "<pandas.io.formats.style.Styler at 0x7f924851b5c0>"
            ]
          },
          "metadata": {
            "tags": []
          },
          "execution_count": 10
        }
      ]
    },
    {
      "cell_type": "code",
      "metadata": {
        "id": "mX6Xh3J4KsES",
        "colab_type": "code",
        "colab": {
          "base_uri": "https://localhost:8080/",
          "height": 641
        },
        "outputId": "70d1f5a3-497f-4446-80fd-75daefef1503"
      },
      "source": [
        "\n",
        "df_full = pd.merge(data4,data3,on='Region / الجهة')\n",
        "fig = folium.Figure(width=1000, height=600)\n",
        "map = folium.Map(location=[29.852972, -12.763558], zoom_start=6,tiles='Stamenterrain')\n",
        "for lat, lon, value, name in zip(df_full['Latitude'], df_full['Longitude'], df_full['Total Cases / إجمالي الحالات'], df_full['Region / الجهة']):\n",
        "    folium.CircleMarker(\n",
        "        [lat, lon],\n",
        "        radius=.1 * value//2,\n",
        "        popup = ('<strong>State</strong>: ' + str(name).capitalize() + '<br>''<strong>Total Cases</strong>: ' + str(value) + '<br>'),\n",
        "        color='black',\n",
        "        fill_color='red',\n",
        "        fill_opacity=0.7 ).add_to(map)\n",
        "#map\n",
        "fig.add_child(map)"
      ],
      "execution_count": null,
      "outputs": [
        {
          "output_type": "execute_result",
          "data": {
            "text/html": [
              "<iframe src=\"about:blank\" width=\"1000\" height=\"600\"style=\"border:none !important;\" data-html=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 onload=\"this.contentDocument.open();this.contentDocument.write(atob(this.getAttribute('data-html')));this.contentDocument.close();\" \"allowfullscreen\" \"webkitallowfullscreen\" \"mozallowfullscreen\"></iframe>"
            ],
            "text/plain": [
              "<branca.element.Figure at 0x7f92497e96d8>"
            ]
          },
          "metadata": {
            "tags": []
          },
          "execution_count": 11
        }
      ]
    },
    {
      "cell_type": "markdown",
      "metadata": {
        "id": "9k0_RZ5mCpXX",
        "colab_type": "text"
      },
      "source": [
        "#II - Prédiction du nombre total des cas au maroc"
      ]
    },
    {
      "cell_type": "code",
      "metadata": {
        "id": "ZSLKTV2FPYld",
        "colab_type": "code",
        "colab": {}
      },
      "source": [
        "confirmed = data1.groupby('Dates / التواريخ').sum()['Cases / الحالات'].reset_index()\n",
        "deaths = data1.groupby('Dates / التواريخ').sum()['Deaths / الوفيات'].reset_index()\n",
        "recovered = data1.groupby('Dates / التواريخ').sum()['Recovered / تعافى'].reset_index()"
      ],
      "execution_count": null,
      "outputs": []
    },
    {
      "cell_type": "markdown",
      "metadata": {
        "id": "FFSYcN9gEY2Y",
        "colab_type": "text"
      },
      "source": [
        "## 1 - Prédiction de cas confirmés de coronavirus au maroc avec Prophet : "
      ]
    },
    {
      "cell_type": "code",
      "metadata": {
        "id": "jLGJjRjJRWND",
        "colab_type": "code",
        "colab": {
          "base_uri": "https://localhost:8080/",
          "height": 204
        },
        "outputId": "44f1295e-a7fb-49b5-fc9a-f63150e3090c"
      },
      "source": [
        "confirmed.columns = ['ds','y']\n",
        "confirmed['ds'] = pd.to_datetime(confirmed['ds'])\n",
        "confirmed.head()\n"
      ],
      "execution_count": null,
      "outputs": [
        {
          "output_type": "execute_result",
          "data": {
            "text/html": [
              "<div>\n",
              "<style scoped>\n",
              "    .dataframe tbody tr th:only-of-type {\n",
              "        vertical-align: middle;\n",
              "    }\n",
              "\n",
              "    .dataframe tbody tr th {\n",
              "        vertical-align: top;\n",
              "    }\n",
              "\n",
              "    .dataframe thead th {\n",
              "        text-align: right;\n",
              "    }\n",
              "</style>\n",
              "<table border=\"1\" class=\"dataframe\">\n",
              "  <thead>\n",
              "    <tr style=\"text-align: right;\">\n",
              "      <th></th>\n",
              "      <th>ds</th>\n",
              "      <th>y</th>\n",
              "    </tr>\n",
              "  </thead>\n",
              "  <tbody>\n",
              "    <tr>\n",
              "      <th>0</th>\n",
              "      <td>2020-03-13</td>\n",
              "      <td>8</td>\n",
              "    </tr>\n",
              "    <tr>\n",
              "      <th>1</th>\n",
              "      <td>2020-03-14</td>\n",
              "      <td>18</td>\n",
              "    </tr>\n",
              "    <tr>\n",
              "      <th>2</th>\n",
              "      <td>2020-03-15</td>\n",
              "      <td>29</td>\n",
              "    </tr>\n",
              "    <tr>\n",
              "      <th>3</th>\n",
              "      <td>2020-03-16</td>\n",
              "      <td>38</td>\n",
              "    </tr>\n",
              "    <tr>\n",
              "      <th>4</th>\n",
              "      <td>2020-03-18</td>\n",
              "      <td>54</td>\n",
              "    </tr>\n",
              "  </tbody>\n",
              "</table>\n",
              "</div>"
            ],
            "text/plain": [
              "          ds   y\n",
              "0 2020-03-13   8\n",
              "1 2020-03-14  18\n",
              "2 2020-03-15  29\n",
              "3 2020-03-16  38\n",
              "4 2020-03-18  54"
            ]
          },
          "metadata": {
            "tags": []
          },
          "execution_count": 13
        }
      ]
    },
    {
      "cell_type": "code",
      "metadata": {
        "id": "1Lvh-oVbRf7G",
        "colab_type": "code",
        "colab": {
          "base_uri": "https://localhost:8080/",
          "height": 255
        },
        "outputId": "8d3de762-dac1-4891-bd1b-3ffa09619d5c"
      },
      "source": [
        "model1 = Prophet()\n",
        "model1.fit(confirmed)\n",
        "future1 = model1.make_future_dataframe(periods=13)\n",
        "future1 = future1.drop(future1.index[[0]])\n",
        "future1.tail()"
      ],
      "execution_count": null,
      "outputs": [
        {
          "output_type": "stream",
          "text": [
            "INFO:numexpr.utils:NumExpr defaulting to 2 threads.\n",
            "INFO:fbprophet:Disabling yearly seasonality. Run prophet with yearly_seasonality=True to override this.\n",
            "INFO:fbprophet:Disabling daily seasonality. Run prophet with daily_seasonality=True to override this.\n"
          ],
          "name": "stderr"
        },
        {
          "output_type": "execute_result",
          "data": {
            "text/html": [
              "<div>\n",
              "<style scoped>\n",
              "    .dataframe tbody tr th:only-of-type {\n",
              "        vertical-align: middle;\n",
              "    }\n",
              "\n",
              "    .dataframe tbody tr th {\n",
              "        vertical-align: top;\n",
              "    }\n",
              "\n",
              "    .dataframe thead th {\n",
              "        text-align: right;\n",
              "    }\n",
              "</style>\n",
              "<table border=\"1\" class=\"dataframe\">\n",
              "  <thead>\n",
              "    <tr style=\"text-align: right;\">\n",
              "      <th></th>\n",
              "      <th>ds</th>\n",
              "    </tr>\n",
              "  </thead>\n",
              "  <tbody>\n",
              "    <tr>\n",
              "      <th>94</th>\n",
              "      <td>2020-06-10</td>\n",
              "    </tr>\n",
              "    <tr>\n",
              "      <th>95</th>\n",
              "      <td>2020-06-11</td>\n",
              "    </tr>\n",
              "    <tr>\n",
              "      <th>96</th>\n",
              "      <td>2020-06-12</td>\n",
              "    </tr>\n",
              "    <tr>\n",
              "      <th>97</th>\n",
              "      <td>2020-06-13</td>\n",
              "    </tr>\n",
              "    <tr>\n",
              "      <th>98</th>\n",
              "      <td>2020-06-14</td>\n",
              "    </tr>\n",
              "  </tbody>\n",
              "</table>\n",
              "</div>"
            ],
            "text/plain": [
              "           ds\n",
              "94 2020-06-10\n",
              "95 2020-06-11\n",
              "96 2020-06-12\n",
              "97 2020-06-13\n",
              "98 2020-06-14"
            ]
          },
          "metadata": {
            "tags": []
          },
          "execution_count": 14
        }
      ]
    },
    {
      "cell_type": "code",
      "metadata": {
        "id": "nt7HTnEuSMIx",
        "colab_type": "code",
        "colab": {
          "base_uri": "https://localhost:8080/",
          "height": 204
        },
        "outputId": "023b4f74-af92-4a87-9b94-da78bc119d01"
      },
      "source": [
        "prediction1 = model1.predict(future1)\n",
        "prediction1[['ds', 'yhat', 'yhat_lower', 'yhat_upper']].tail()"
      ],
      "execution_count": null,
      "outputs": [
        {
          "output_type": "execute_result",
          "data": {
            "text/html": [
              "<div>\n",
              "<style scoped>\n",
              "    .dataframe tbody tr th:only-of-type {\n",
              "        vertical-align: middle;\n",
              "    }\n",
              "\n",
              "    .dataframe tbody tr th {\n",
              "        vertical-align: top;\n",
              "    }\n",
              "\n",
              "    .dataframe thead th {\n",
              "        text-align: right;\n",
              "    }\n",
              "</style>\n",
              "<table border=\"1\" class=\"dataframe\">\n",
              "  <thead>\n",
              "    <tr style=\"text-align: right;\">\n",
              "      <th></th>\n",
              "      <th>ds</th>\n",
              "      <th>yhat</th>\n",
              "      <th>yhat_lower</th>\n",
              "      <th>yhat_upper</th>\n",
              "    </tr>\n",
              "  </thead>\n",
              "  <tbody>\n",
              "    <tr>\n",
              "      <th>93</th>\n",
              "      <td>2020-06-10</td>\n",
              "      <td>8767.362445</td>\n",
              "      <td>8568.146742</td>\n",
              "      <td>8967.302203</td>\n",
              "    </tr>\n",
              "    <tr>\n",
              "      <th>94</th>\n",
              "      <td>2020-06-11</td>\n",
              "      <td>8810.533911</td>\n",
              "      <td>8601.419948</td>\n",
              "      <td>9016.792452</td>\n",
              "    </tr>\n",
              "    <tr>\n",
              "      <th>95</th>\n",
              "      <td>2020-06-12</td>\n",
              "      <td>8925.814877</td>\n",
              "      <td>8690.922678</td>\n",
              "      <td>9161.377201</td>\n",
              "    </tr>\n",
              "    <tr>\n",
              "      <th>96</th>\n",
              "      <td>2020-06-13</td>\n",
              "      <td>9001.141720</td>\n",
              "      <td>8750.152223</td>\n",
              "      <td>9261.471349</td>\n",
              "    </tr>\n",
              "    <tr>\n",
              "      <th>97</th>\n",
              "      <td>2020-06-14</td>\n",
              "      <td>9077.795138</td>\n",
              "      <td>8811.952781</td>\n",
              "      <td>9369.257359</td>\n",
              "    </tr>\n",
              "  </tbody>\n",
              "</table>\n",
              "</div>"
            ],
            "text/plain": [
              "           ds         yhat   yhat_lower   yhat_upper\n",
              "93 2020-06-10  8767.362445  8568.146742  8967.302203\n",
              "94 2020-06-11  8810.533911  8601.419948  9016.792452\n",
              "95 2020-06-12  8925.814877  8690.922678  9161.377201\n",
              "96 2020-06-13  9001.141720  8750.152223  9261.471349\n",
              "97 2020-06-14  9077.795138  8811.952781  9369.257359"
            ]
          },
          "metadata": {
            "tags": []
          },
          "execution_count": 15
        }
      ]
    },
    {
      "cell_type": "code",
      "metadata": {
        "id": "YgQzD0nuD8Sk",
        "colab_type": "code",
        "colab": {
          "base_uri": "https://localhost:8080/",
          "height": 441
        },
        "outputId": "a446bbc3-11f1-4939-9bd8-04213d0de010"
      },
      "source": [
        " confirmed_forecast_plot =model1.plot(prediction1)"
      ],
      "execution_count": null,
      "outputs": [
        {
          "output_type": "display_data",
          "data": {
            "image/png": "[encoded data removed]",
            "text/plain": [
              "<Figure size 720x432 with 1 Axes>"
            ]
          },
          "metadata": {
            "tags": []
          }
        }
      ]
    },
    {
      "cell_type": "markdown",
      "metadata": {
        "id": "qT1ALXbnFPg6",
        "colab_type": "text"
      },
      "source": [
        "## 2 - Prédiction des décès au maroc à l'aide de Prophet :"
      ]
    },
    {
      "cell_type": "code",
      "metadata": {
        "id": "3X8aUaWGX9hf",
        "colab_type": "code",
        "colab": {}
      },
      "source": [
        "deaths.columns = ['ds','y']\n",
        "deaths['ds'] = pd.to_datetime(deaths['ds'])"
      ],
      "execution_count": null,
      "outputs": []
    },
    {
      "cell_type": "code",
      "metadata": {
        "id": "UTks6DLVfP54",
        "colab_type": "code",
        "colab": {
          "base_uri": "https://localhost:8080/",
          "height": 238
        },
        "outputId": "360d5a75-7cc9-4271-d3f6-f92e78c15518"
      },
      "source": [
        "model2 = Prophet(interval_width=0.95)\n",
        "model2.fit(deaths)\n",
        "future2 = model2.make_future_dataframe(periods=14)\n",
        "future2 = future2.drop(future2.index[[0]])\n",
        "future2.tail()"
      ],
      "execution_count": null,
      "outputs": [
        {
          "output_type": "stream",
          "text": [
            "INFO:fbprophet:Disabling yearly seasonality. Run prophet with yearly_seasonality=True to override this.\n",
            "INFO:fbprophet:Disabling daily seasonality. Run prophet with daily_seasonality=True to override this.\n"
          ],
          "name": "stderr"
        },
        {
          "output_type": "execute_result",
          "data": {
            "text/html": [
              "<div>\n",
              "<style scoped>\n",
              "    .dataframe tbody tr th:only-of-type {\n",
              "        vertical-align: middle;\n",
              "    }\n",
              "\n",
              "    .dataframe tbody tr th {\n",
              "        vertical-align: top;\n",
              "    }\n",
              "\n",
              "    .dataframe thead th {\n",
              "        text-align: right;\n",
              "    }\n",
              "</style>\n",
              "<table border=\"1\" class=\"dataframe\">\n",
              "  <thead>\n",
              "    <tr style=\"text-align: right;\">\n",
              "      <th></th>\n",
              "      <th>ds</th>\n",
              "    </tr>\n",
              "  </thead>\n",
              "  <tbody>\n",
              "    <tr>\n",
              "      <th>95</th>\n",
              "      <td>2020-06-11</td>\n",
              "    </tr>\n",
              "    <tr>\n",
              "      <th>96</th>\n",
              "      <td>2020-06-12</td>\n",
              "    </tr>\n",
              "    <tr>\n",
              "      <th>97</th>\n",
              "      <td>2020-06-13</td>\n",
              "    </tr>\n",
              "    <tr>\n",
              "      <th>98</th>\n",
              "      <td>2020-06-14</td>\n",
              "    </tr>\n",
              "    <tr>\n",
              "      <th>99</th>\n",
              "      <td>2020-06-15</td>\n",
              "    </tr>\n",
              "  </tbody>\n",
              "</table>\n",
              "</div>"
            ],
            "text/plain": [
              "           ds\n",
              "95 2020-06-11\n",
              "96 2020-06-12\n",
              "97 2020-06-13\n",
              "98 2020-06-14\n",
              "99 2020-06-15"
            ]
          },
          "metadata": {
            "tags": []
          },
          "execution_count": 18
        }
      ]
    },
    {
      "cell_type": "code",
      "metadata": {
        "id": "M2gOdYPXfXUX",
        "colab_type": "code",
        "colab": {
          "base_uri": "https://localhost:8080/",
          "height": 204
        },
        "outputId": "022d29a8-8ae9-4e36-e50b-9547c83bb744"
      },
      "source": [
        "prediction2 = model2.predict(future2)\n",
        "prediction2[['ds', 'yhat', 'yhat_lower', 'yhat_upper']].tail()"
      ],
      "execution_count": null,
      "outputs": [
        {
          "output_type": "execute_result",
          "data": {
            "text/html": [
              "<div>\n",
              "<style scoped>\n",
              "    .dataframe tbody tr th:only-of-type {\n",
              "        vertical-align: middle;\n",
              "    }\n",
              "\n",
              "    .dataframe tbody tr th {\n",
              "        vertical-align: top;\n",
              "    }\n",
              "\n",
              "    .dataframe thead th {\n",
              "        text-align: right;\n",
              "    }\n",
              "</style>\n",
              "<table border=\"1\" class=\"dataframe\">\n",
              "  <thead>\n",
              "    <tr style=\"text-align: right;\">\n",
              "      <th></th>\n",
              "      <th>ds</th>\n",
              "      <th>yhat</th>\n",
              "      <th>yhat_lower</th>\n",
              "      <th>yhat_upper</th>\n",
              "    </tr>\n",
              "  </thead>\n",
              "  <tbody>\n",
              "    <tr>\n",
              "      <th>94</th>\n",
              "      <td>2020-06-11</td>\n",
              "      <td>264.062051</td>\n",
              "      <td>182.423820</td>\n",
              "      <td>349.132278</td>\n",
              "    </tr>\n",
              "    <tr>\n",
              "      <th>95</th>\n",
              "      <td>2020-06-12</td>\n",
              "      <td>239.991574</td>\n",
              "      <td>154.778115</td>\n",
              "      <td>329.771319</td>\n",
              "    </tr>\n",
              "    <tr>\n",
              "      <th>96</th>\n",
              "      <td>2020-06-13</td>\n",
              "      <td>242.240309</td>\n",
              "      <td>154.948359</td>\n",
              "      <td>333.556559</td>\n",
              "    </tr>\n",
              "    <tr>\n",
              "      <th>97</th>\n",
              "      <td>2020-06-14</td>\n",
              "      <td>244.822320</td>\n",
              "      <td>156.039176</td>\n",
              "      <td>329.001769</td>\n",
              "    </tr>\n",
              "    <tr>\n",
              "      <th>98</th>\n",
              "      <td>2020-06-15</td>\n",
              "      <td>247.386520</td>\n",
              "      <td>157.969995</td>\n",
              "      <td>329.034450</td>\n",
              "    </tr>\n",
              "  </tbody>\n",
              "</table>\n",
              "</div>"
            ],
            "text/plain": [
              "           ds        yhat  yhat_lower  yhat_upper\n",
              "94 2020-06-11  264.062051  182.423820  349.132278\n",
              "95 2020-06-12  239.991574  154.778115  329.771319\n",
              "96 2020-06-13  242.240309  154.948359  333.556559\n",
              "97 2020-06-14  244.822320  156.039176  329.001769\n",
              "98 2020-06-15  247.386520  157.969995  329.034450"
            ]
          },
          "metadata": {
            "tags": []
          },
          "execution_count": 19
        }
      ]
    },
    {
      "cell_type": "code",
      "metadata": {
        "id": "5luiew9PfcvR",
        "colab_type": "code",
        "colab": {
          "base_uri": "https://localhost:8080/",
          "height": 441
        },
        "outputId": "a3d1e456-88da-4843-cc28-c97bd759e298"
      },
      "source": [
        "deaths_forecast_plot = model2.plot(prediction2)"
      ],
      "execution_count": null,
      "outputs": [
        {
          "output_type": "display_data",
          "data": {
            "image/png": "[encoded data removed]",
            "text/plain": [
              "<Figure size 720x432 with 1 Axes>"
            ]
          },
          "metadata": {
            "tags": []
          }
        }
      ]
    },
    {
      "cell_type": "markdown",
      "metadata": {
        "id": "qVKhbFXbF1Mh",
        "colab_type": "text"
      },
      "source": [
        "## 3 - Prédiction des cas rétablis au maroc a l'aide de Prophet :"
      ]
    },
    {
      "cell_type": "code",
      "metadata": {
        "id": "JlnWDb-Lf0Rp",
        "colab_type": "code",
        "colab": {}
      },
      "source": [
        "recovered.columns = ['ds','y']\n",
        "recovered['ds'] = pd.to_datetime(recovered['ds'])"
      ],
      "execution_count": null,
      "outputs": []
    },
    {
      "cell_type": "code",
      "metadata": {
        "id": "IpN8OtQbhUJz",
        "colab_type": "code",
        "colab": {
          "base_uri": "https://localhost:8080/",
          "height": 238
        },
        "outputId": "8433eef7-3eb6-454f-cc39-bb65719d98e6"
      },
      "source": [
        "model3 = Prophet()\n",
        "model3.fit(recovered)\n",
        "future3 = model3.make_future_dataframe(periods=14)\n",
        "future3 = future3.drop(future3.index[[0]])\n",
        "future3.tail()"
      ],
      "execution_count": null,
      "outputs": [
        {
          "output_type": "stream",
          "text": [
            "INFO:fbprophet:Disabling yearly seasonality. Run prophet with yearly_seasonality=True to override this.\n",
            "INFO:fbprophet:Disabling daily seasonality. Run prophet with daily_seasonality=True to override this.\n"
          ],
          "name": "stderr"
        },
        {
          "output_type": "execute_result",
          "data": {
            "text/html": [
              "<div>\n",
              "<style scoped>\n",
              "    .dataframe tbody tr th:only-of-type {\n",
              "        vertical-align: middle;\n",
              "    }\n",
              "\n",
              "    .dataframe tbody tr th {\n",
              "        vertical-align: top;\n",
              "    }\n",
              "\n",
              "    .dataframe thead th {\n",
              "        text-align: right;\n",
              "    }\n",
              "</style>\n",
              "<table border=\"1\" class=\"dataframe\">\n",
              "  <thead>\n",
              "    <tr style=\"text-align: right;\">\n",
              "      <th></th>\n",
              "      <th>ds</th>\n",
              "    </tr>\n",
              "  </thead>\n",
              "  <tbody>\n",
              "    <tr>\n",
              "      <th>95</th>\n",
              "      <td>2020-06-11</td>\n",
              "    </tr>\n",
              "    <tr>\n",
              "      <th>96</th>\n",
              "      <td>2020-06-12</td>\n",
              "    </tr>\n",
              "    <tr>\n",
              "      <th>97</th>\n",
              "      <td>2020-06-13</td>\n",
              "    </tr>\n",
              "    <tr>\n",
              "      <th>98</th>\n",
              "      <td>2020-06-14</td>\n",
              "    </tr>\n",
              "    <tr>\n",
              "      <th>99</th>\n",
              "      <td>2020-06-15</td>\n",
              "    </tr>\n",
              "  </tbody>\n",
              "</table>\n",
              "</div>"
            ],
            "text/plain": [
              "           ds\n",
              "95 2020-06-11\n",
              "96 2020-06-12\n",
              "97 2020-06-13\n",
              "98 2020-06-14\n",
              "99 2020-06-15"
            ]
          },
          "metadata": {
            "tags": []
          },
          "execution_count": 22
        }
      ]
    },
    {
      "cell_type": "code",
      "metadata": {
        "id": "3ckSoywMhUzJ",
        "colab_type": "code",
        "colab": {
          "base_uri": "https://localhost:8080/",
          "height": 204
        },
        "outputId": "68e631d0-f75d-4b3e-9be6-beda49878c88"
      },
      "source": [
        "prediction3 = model3.predict(future3)\n",
        "prediction3[['ds', 'yhat', 'yhat_lower', 'yhat_upper']].tail()"
      ],
      "execution_count": null,
      "outputs": [
        {
          "output_type": "execute_result",
          "data": {
            "text/html": [
              "<div>\n",
              "<style scoped>\n",
              "    .dataframe tbody tr th:only-of-type {\n",
              "        vertical-align: middle;\n",
              "    }\n",
              "\n",
              "    .dataframe tbody tr th {\n",
              "        vertical-align: top;\n",
              "    }\n",
              "\n",
              "    .dataframe thead th {\n",
              "        text-align: right;\n",
              "    }\n",
              "</style>\n",
              "<table border=\"1\" class=\"dataframe\">\n",
              "  <thead>\n",
              "    <tr style=\"text-align: right;\">\n",
              "      <th></th>\n",
              "      <th>ds</th>\n",
              "      <th>yhat</th>\n",
              "      <th>yhat_lower</th>\n",
              "      <th>yhat_upper</th>\n",
              "    </tr>\n",
              "  </thead>\n",
              "  <tbody>\n",
              "    <tr>\n",
              "      <th>94</th>\n",
              "      <td>2020-06-11</td>\n",
              "      <td>4638.827042</td>\n",
              "      <td>2956.768261</td>\n",
              "      <td>6492.070060</td>\n",
              "    </tr>\n",
              "    <tr>\n",
              "      <th>95</th>\n",
              "      <td>2020-06-12</td>\n",
              "      <td>3892.491335</td>\n",
              "      <td>2077.807046</td>\n",
              "      <td>5610.407176</td>\n",
              "    </tr>\n",
              "    <tr>\n",
              "      <th>96</th>\n",
              "      <td>2020-06-13</td>\n",
              "      <td>3968.043743</td>\n",
              "      <td>2100.777592</td>\n",
              "      <td>5691.190032</td>\n",
              "    </tr>\n",
              "    <tr>\n",
              "      <th>97</th>\n",
              "      <td>2020-06-14</td>\n",
              "      <td>4025.009089</td>\n",
              "      <td>2150.906622</td>\n",
              "      <td>5821.556438</td>\n",
              "    </tr>\n",
              "    <tr>\n",
              "      <th>98</th>\n",
              "      <td>2020-06-15</td>\n",
              "      <td>4185.707530</td>\n",
              "      <td>2370.727024</td>\n",
              "      <td>5898.463044</td>\n",
              "    </tr>\n",
              "  </tbody>\n",
              "</table>\n",
              "</div>"
            ],
            "text/plain": [
              "           ds         yhat   yhat_lower   yhat_upper\n",
              "94 2020-06-11  4638.827042  2956.768261  6492.070060\n",
              "95 2020-06-12  3892.491335  2077.807046  5610.407176\n",
              "96 2020-06-13  3968.043743  2100.777592  5691.190032\n",
              "97 2020-06-14  4025.009089  2150.906622  5821.556438\n",
              "98 2020-06-15  4185.707530  2370.727024  5898.463044"
            ]
          },
          "metadata": {
            "tags": []
          },
          "execution_count": 23
        }
      ]
    },
    {
      "cell_type": "code",
      "metadata": {
        "id": "zmH0q4MLhZCQ",
        "colab_type": "code",
        "colab": {
          "base_uri": "https://localhost:8080/",
          "height": 441
        },
        "outputId": "371f2c78-1e89-4e2d-b6af-c695d6dcfa1e"
      },
      "source": [
        "recovered_forecast_plot = model3.plot(prediction3)"
      ],
      "execution_count": null,
      "outputs": [
        {
          "output_type": "display_data",
          "data": {
            "image/png": "[encoded data removed]",
            "text/plain": [
              "<Figure size 720x432 with 1 Axes>"
            ]
          },
          "metadata": {
            "tags": []
          }
        }
      ]
    }
  ]
}